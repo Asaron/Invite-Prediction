{
 "cells": [
  {
   "cell_type": "markdown",
   "metadata": {},
   "source": [
    "<h1 align=\"center\"> ELO Ranking for professional Dota team</h1>"
   ]
  },
  {
   "cell_type": "markdown",
   "metadata": {},
   "source": [
    "<h2 align=\"center\"> Frankfurt Major Invitation 2015</h2>"
   ]
  },
  {
   "cell_type": "code",
   "execution_count": 1,
   "metadata": {
    "collapsed": false
   },
   "outputs": [],
   "source": [
    "# Some import\n",
    "import pandas as pd"
   ]
  },
  {
   "cell_type": "markdown",
   "metadata": {},
   "source": [
    "<h2> Elo funtion and class</h2>"
   ]
  },
  {
   "cell_type": "code",
   "execution_count": 1,
   "metadata": {
    "collapsed": false
   },
   "outputs": [],
   "source": [
    "# Elo formula \n",
    "# R=R+KG(W-We)\n",
    "# R = Elo rank\n",
    "# K = Weight of competition\n",
    "# G = coefficient according to the result\n",
    "\n",
    "def compute_elo(Team1, Team2 ,score1, score2 ,Tournament):\n",
    "    elo1 = Team1.elo \n",
    "    elo2 = Team2.elo \n",
    "    k = Tournament.weight\n",
    "    We1 = 1/(1+10**(-(elo1-elo2)/400))\n",
    "    We2 = 1/(1+10**(-(elo2-elo1)/400))\n",
    "    \n",
    "    if(score1==score2):\n",
    "        elo1 = elo1 + k * 1 *(0.5-We1)\n",
    "        elo2 = elo2 + k * 1 *(0.5-We2)\n",
    "    elif(score1>score2+1):\n",
    "        elo1 = elo1 + k * 1.5 *(1-We1)\n",
    "        elo2 = elo2 - k * 1.5 *(We2)\n",
    "    elif(score1>score2):\n",
    "        elo1 = elo1 + k * 1 *(1-We1)\n",
    "        elo2 = elo2 - k * 1 *(We2)\n",
    "    elif(score2>score1+1):\n",
    "        elo1 = elo1 - k * 1.5 *(We1)\n",
    "        elo2 = elo2 + k * 1.5 *(1-We2)\n",
    "    elif(score2>score1):\n",
    "        elo1 = elo1 - k * 1 *(We1)\n",
    "        elo2 = elo2 + k * 1 *(1-We2)\n",
    "    \n",
    "    Team1.elo = round(elo1)\n",
    "    Team2.elo = round(elo2)\n",
    "\n",
    "def display_rank(List_team):\n",
    "    l =[]\n",
    "    for team in List_team:\n",
    "        l.append([team.name,team.elo])\n",
    "    df =pd.DataFrame(data=l, columns=[\"team\",\"Rank\"])\n",
    "    print df.sort(\"Rank\", ascending=0).reset_index(drop=True)"
   ]
  },
  {
   "cell_type": "code",
   "execution_count": 3,
   "metadata": {
    "collapsed": false
   },
   "outputs": [],
   "source": [
    "class Team:\n",
    "    def __init__(self,name, elo=1000):\n",
    "        self.elo = elo\n",
    "        self.name = name\n",
    "        \n",
    "    \n",
    "class Tournament:\n",
    "        def __init__(self,name, weight):\n",
    "            self.weight = weight\n",
    "            self.name = name"
   ]
  },
  {
   "cell_type": "markdown",
   "metadata": {},
   "source": [
    "### Weight of tournament\n",
    "* The International: 60\n",
    "* Major: 50\n",
    "* Cash price >200k: 30\n",
    "* Cash price >100k & <200k: 20\n",
    "* Cash price <100K: 10"
   ]
  },
  {
   "cell_type": "code",
   "execution_count": 4,
   "metadata": {
    "collapsed": false
   },
   "outputs": [
    {
     "name": "stdout",
     "output_type": "stream",
     "text": [
      "1000\n",
      "1400\n",
      "\n",
      "\n",
      "1090.0\n",
      "1318.0\n"
     ]
    }
   ],
   "source": [
    "# test\n",
    "Alliance = Team(\"Alliance\", 1000)\n",
    "Newbee = Team(\"Newbee\", 1400)\n",
    "TI6 = Tournament(\"The International 6\", 60)\n",
    "print(Alliance.elo)\n",
    "print(Newbee.elo)\n",
    "compute_elo(Alliance, Newbee, 2, 0, TI6)\n",
    "print(\"\\n\")\n",
    "print(Alliance.elo)\n",
    "print(Newbee.elo)"
   ]
  },
  {
   "cell_type": "markdown",
   "metadata": {},
   "source": [
    "<h2> The International 5</h2>"
   ]
  },
  {
   "cell_type": "code",
   "execution_count": 5,
   "metadata": {
    "collapsed": false
   },
   "outputs": [
    {
     "name": "stdout",
     "output_type": "stream",
     "text": [
      "                 team  Rank\n",
      "0         Vici Gaming  1000\n",
      "1       Evil Geniuses  1000\n",
      "2         Team Secret  1000\n",
      "3     Invictus Gaming  1000\n",
      "4          LGD Gaming  1000\n",
      "5             Cloud 9  1000\n",
      "6         Team Empire  1000\n",
      "7          Virtus Pro  1000\n",
      "8              Newbee  1000\n",
      "9              Fnatic  1000\n",
      "10              Na'Vi  1000\n",
      "11  Complexity Gaming  1000\n",
      "12        CDEC Gaming  1000\n",
      "13              EHOME  1000\n",
      "14            MVPHot6  1000\n",
      "15        MVP Phoenix  1000\n"
     ]
    }
   ],
   "source": [
    "# List of teams\n",
    "\n",
    "TI5 = Tournament(\"The International 5\", 60)\n",
    "\n",
    "\n",
    "Vici_Gaming = Team(\"Vici Gaming\", 1000)\n",
    "Evil_Geniuses  = Team(\"Evil Geniuses\", 1000)\n",
    "Team_Secret  = Team(\"Team Secret\", 1000)\n",
    "Invictus_Gaming  = Team(\"Invictus Gaming\", 1000)\n",
    "LGD_Gaming  = Team(\"LGD Gaming\", 1000)\n",
    "Cloud_9  = Team(\"Cloud 9\", 1000)\n",
    "Team_Empire = Team(\"Team Empire\", 1000)\n",
    "Virtus_pro  = Team(\"Virtus Pro\", 1000)\n",
    "Newbee  = Team(\"Newbee\", 1000)\n",
    "Fnatic  = Team(\"Fnatic\", 1000)\n",
    "Natus_Vincere  = Team(\"Na'Vi\", 1000)\n",
    "Complexity  = Team(\"Complexity Gaming\", 1000)\n",
    "CDEC_Gaming = Team(\"CDEC Gaming\", 1000)\n",
    "Ehome  = Team(\"EHOME\", 1000)\n",
    "MVP_Hot6  = Team(\"MVPHot6\", 1000)\n",
    "MVP_Phoenix =  Team(\"MVP Phoenix\", 1000)\n",
    "\n",
    "List_team = [Vici_Gaming,Evil_Geniuses,Team_Secret,Invictus_Gaming,LGD_Gaming,Cloud_9,Team_Empire,Virtus_pro,Newbee,Fnatic,\n",
    "       Natus_Vincere,Complexity,CDEC_Gaming,Ehome,MVP_Hot6,MVP_Phoenix]\n",
    "\n",
    "display_rank(List_team)"
   ]
  },
  {
   "cell_type": "code",
   "execution_count": 6,
   "metadata": {
    "collapsed": false
   },
   "outputs": [
    {
     "name": "stdout",
     "output_type": "stream",
     "text": [
      "                 team  Rank\n",
      "0       Evil Geniuses  1221\n",
      "1         CDEC Gaming  1160\n",
      "2          LGD Gaming  1136\n",
      "3         Vici Gaming  1050\n",
      "4               EHOME  1049\n",
      "5         Team Secret  1044\n",
      "6          Virtus Pro  1041\n",
      "7         Team Empire  1008\n",
      "8   Complexity Gaming   999\n",
      "9         MVP Phoenix   988\n",
      "10    Invictus Gaming   955\n",
      "11             Newbee   943\n",
      "12            Cloud 9   919\n",
      "13             Fnatic   912\n",
      "14              Na'Vi   864\n",
      "15            MVPHot6   861\n"
     ]
    }
   ],
   "source": [
    "# Game group stage\n",
    "# groupA\n",
    "compute_elo(Complexity,Cloud_9,2,0,TI5)\n",
    "compute_elo(Cloud_9,Invictus_Gaming,2,0,TI5)\n",
    "compute_elo(Cloud_9,Fnatic,2,0,TI5)\n",
    "compute_elo(LGD_Gaming,Cloud_9,2,0,TI5)\n",
    "compute_elo(Cloud_9,MVP_Phoenix,2,0,TI5)\n",
    "compute_elo(Natus_Vincere,Cloud_9,1,1,TI5)\n",
    "compute_elo(Team_Secret,Cloud_9,2,0,TI5)\n",
    "compute_elo(Complexity,Fnatic,2,0,TI5)\n",
    "compute_elo(Complexity,Invictus_Gaming,1,1,TI5)\n",
    "compute_elo(LGD_Gaming,Complexity,2,0,TI5)\n",
    "compute_elo(Complexity,MVP_Phoenix,2,0,TI5)\n",
    "compute_elo(Complexity,Fnatic,1,1,TI5)\n",
    "compute_elo(Complexity,Team_Secret,1,1,TI5)\n",
    "compute_elo(Fnatic,Invictus_Gaming,1,1,TI5)\n",
    "compute_elo(Fnatic,LGD_Gaming,0,2,TI5)\n",
    "compute_elo(Fnatic,MVP_Phoenix,1,1,TI5)\n",
    "compute_elo(Fnatic,Team_Secret,1,1,TI5)\n",
    "compute_elo(Fnatic,Natus_Vincere,1,1,TI5)\n",
    "compute_elo(Invictus_Gaming,LGD_Gaming,1,1,TI5)\n",
    "compute_elo(Invictus_Gaming,MVP_Phoenix,0,2,TI5)\n",
    "compute_elo(Team_Secret,Invictus_Gaming,2,0,TI5)\n",
    "compute_elo(Invictus_Gaming,Natus_Vincere,2,0,TI5)\n",
    "compute_elo(LGD_Gaming,MVP_Phoenix,2,0,TI5)\n",
    "compute_elo(LGD_Gaming,Natus_Vincere,2,0,TI5)\n",
    "compute_elo(LGD_Gaming,Team_Secret,1,1,TI5)\n",
    "compute_elo(MVP_Phoenix,Natus_Vincere,1,1,TI5)\n",
    "compute_elo(MVP_Phoenix,Team_Secret,1,1,TI5)\n",
    "compute_elo(Team_Secret,Natus_Vincere,2,0,TI5)\n",
    "\n",
    "# groupB\n",
    "compute_elo(CDEC_Gaming,Ehome,1,1,TI5)\n",
    "compute_elo(Evil_Geniuses,CDEC_Gaming,2,0,TI5)\n",
    "compute_elo(CDEC_Gaming,MVP_Hot6,2,0,TI5)\n",
    "compute_elo(CDEC_Gaming,Newbee,2,0,TI5)\n",
    "compute_elo(CDEC_Gaming,Team_Empire,2,0,TI5)\n",
    "compute_elo(CDEC_Gaming,Vici_Gaming,2,0,TI5)\n",
    "compute_elo(Virtus_pro,CDEC_Gaming,2,0,TI5)\n",
    "compute_elo(Ehome,Evil_Geniuses,1,1,TI5)\n",
    "compute_elo(Ehome,MVP_Hot6,2,0,TI5)\n",
    "compute_elo(Ehome,Newbee,1,1,TI5)\n",
    "compute_elo(Ehome,Team_Empire,1,1,TI5)\n",
    "compute_elo(Ehome,Vici_Gaming,1,1,TI5)\n",
    "compute_elo(Ehome,Virtus_pro,2,0,TI5)\n",
    "compute_elo(Evil_Geniuses,MVP_Hot6,2,0,TI5)\n",
    "compute_elo(Evil_Geniuses,Newbee,1,1,TI5)\n",
    "compute_elo(Evil_Geniuses,Team_Empire,1,1,TI5)\n",
    "compute_elo(Evil_Geniuses,Vici_Gaming,2,0,TI5)\n",
    "compute_elo(Evil_Geniuses,Virtus_pro,1,1,TI5)\n",
    "compute_elo(MVP_Hot6,Newbee,1,1,TI5)\n",
    "compute_elo(MVP_Hot6,Team_Empire,0,2,TI5)\n",
    "compute_elo(MVP_Hot6,Vici_Gaming,2,0,TI5)\n",
    "compute_elo(MVP_Hot6,Virtus_pro,0,2,TI5)\n",
    "compute_elo(Newbee,Team_Empire,1,1,TI5)\n",
    "compute_elo(Newbee,Vici_Gaming,1,1,TI5)\n",
    "compute_elo(Newbee,Virtus_pro,1,1,TI5)\n",
    "compute_elo(Team_Empire,Vici_Gaming,2,0,TI5)\n",
    "compute_elo(Team_Empire,Virtus_pro,2,0,TI5)\n",
    "compute_elo(Vici_Gaming,Virtus_pro,1,1,TI5)\n",
    "\n",
    "# WB\n",
    "compute_elo(LGD_Gaming,Team_Empire,2,1,TI5)\n",
    "compute_elo(CDEC_Gaming,Cloud_9,2,0,TI5)\n",
    "compute_elo(Evil_Geniuses,Complexity,2,0,TI5)\n",
    "compute_elo(Ehome,Team_Secret,2,0,TI5)\n",
    "compute_elo(CDEC_Gaming,LGD_Gaming,2,0,TI5)\n",
    "compute_elo(Evil_Geniuses,Ehome,2,1,TI5)\n",
    "compute_elo(CDEC_Gaming,Evil_Geniuses,2,0,TI5)\n",
    "\n",
    "# LB\n",
    "compute_elo(MVP_Phoenix,Newbee,1,0,TI5)\n",
    "compute_elo(Vici_Gaming,Natus_Vincere,1,0,TI5)\n",
    "compute_elo(Virtus_pro,Fnatic,1,0,TI5)\n",
    "compute_elo(Invictus_Gaming,MVP_Hot6,1,0,TI5)\n",
    "compute_elo(MVP_Phoenix,Team_Empire,2,0,TI5)\n",
    "compute_elo(Vici_Gaming,Cloud_9,2,0,TI5)\n",
    "compute_elo(Virtus_pro,Complexity,2,1,TI5)\n",
    "compute_elo(Team_Secret,Invictus_Gaming,2,1,TI5)\n",
    "compute_elo(Vici_Gaming,MVP_Phoenix,2,0,TI5)\n",
    "compute_elo(Virtus_pro,Team_Secret,2,1,TI5)\n",
    "compute_elo(Vici_Gaming,Ehome,2,0,TI5)\n",
    "compute_elo(LGD_Gaming,Virtus_pro,2,0,TI5)\n",
    "compute_elo(LGD_Gaming,Vici_Gaming,2,1,TI5)\n",
    "compute_elo(Evil_Geniuses,LGD_Gaming,2,0,TI5)\n",
    "\n",
    "# Grand Final\n",
    "compute_elo(Evil_Geniuses,CDEC_Gaming,3,1,TI5)\n",
    "\n",
    "\n",
    "\n",
    "\n",
    "\n",
    "display_rank(List_team)"
   ]
  },
  {
   "cell_type": "markdown",
   "metadata": {
    "collapsed": false
   },
   "source": [
    "The Ranking is quiet different from the results of TI\n",
    "Teams coming from the winner bracket are higher than team in looser bracket except Cloud 9"
   ]
  },
  {
   "cell_type": "markdown",
   "metadata": {
    "collapsed": false
   },
   "source": [
    "<h2>ESL One New York 2015</h2>"
   ]
  },
  {
   "cell_type": "code",
   "execution_count": 7,
   "metadata": {
    "collapsed": true
   },
   "outputs": [],
   "source": [
    "# Introducing new teams\n",
    "Vega_Squadron = Team(\"Vega Squadron\", 1000)\n",
    "Team_Archon = Team(\"Team Archon\", 1000)\n",
    "List_team.append(Vega_Squadron)\n",
    "List_team.append(Team_Archon)\n",
    "\n",
    "# Create Tournament\n",
    "ESL_ONE_NY_2015 = Tournament(\"ESL One NY 2015\",30)"
   ]
  },
  {
   "cell_type": "code",
   "execution_count": 8,
   "metadata": {
    "collapsed": false
   },
   "outputs": [],
   "source": [
    "# Tournament\n",
    "compute_elo(Team_Secret,Fnatic,2,1,ESL_ONE_NY_2015)\n",
    "compute_elo(CDEC_Gaming,Team_Archon,2,0,ESL_ONE_NY_2015)\n",
    "compute_elo(Invictus_Gaming,Virtus_pro,2,1,ESL_ONE_NY_2015)\n",
    "compute_elo(Vega_Squadron,Evil_Geniuses,2,0,ESL_ONE_NY_2015)\n",
    "compute_elo(Team_Secret,CDEC_Gaming,2,0,ESL_ONE_NY_2015)\n",
    "compute_elo(Vega_Squadron,Invictus_Gaming,2,1,ESL_ONE_NY_2015)\n",
    "compute_elo(Vega_Squadron,Team_Secret,2,1,ESL_ONE_NY_2015)"
   ]
  },
  {
   "cell_type": "code",
   "execution_count": 9,
   "metadata": {
    "collapsed": false
   },
   "outputs": [
    {
     "name": "stdout",
     "output_type": "stream",
     "text": [
      "                 team  Rank\n",
      "0       Evil Geniuses  1186\n",
      "1         CDEC Gaming  1143\n",
      "2          LGD Gaming  1136\n",
      "3         Team Secret  1067\n",
      "4       Vega Squadron  1064\n",
      "5         Vici Gaming  1050\n",
      "6               EHOME  1049\n",
      "7          Virtus Pro  1022\n",
      "8         Team Empire  1008\n",
      "9   Complexity Gaming   999\n",
      "10        MVP Phoenix   988\n",
      "11        Team Archon   987\n",
      "12    Invictus Gaming   962\n",
      "13             Newbee   943\n",
      "14            Cloud 9   919\n",
      "15             Fnatic   902\n",
      "16              Na'Vi   864\n",
      "17            MVPHot6   861\n"
     ]
    }
   ],
   "source": [
    "display_rank(List_team)"
   ]
  },
  {
   "cell_type": "markdown",
   "metadata": {},
   "source": [
    "Here are all the lans which occured between The International 5 and the day Valve released the invite.\n",
    "* Evil Geniuses\n",
    "* Team Secret\n",
    "* CDEC Gaming\n",
    "* LGD Gaming\n",
    "* Vici Gaming\n",
    "* Vega Squadron\n",
    "* Ehome\n",
    "* Virtus Pro\n",
    "\n",
    "These teams corresponds to the 8 first teams of my rank which is pretty nice. I don't really have others conclusion about these invites and my rank, let's see those for the Shangai Major.\n",
    "Neverthless i'm bit disappointed only 2 lans count for the invite, we could expect at least another one because these invites rely on the results of TI5 mostly and after the roaster change this rank seems to be a bit biaised.\n"
   ]
  },
  {
   "cell_type": "code",
   "execution_count": null,
   "metadata": {
    "collapsed": true
   },
   "outputs": [],
   "source": []
  }
 ],
 "metadata": {
  "kernelspec": {
   "display_name": "Python 2",
   "language": "python",
   "name": "python2"
  },
  "language_info": {
   "codemirror_mode": {
    "name": "ipython",
    "version": 2
   },
   "file_extension": ".py",
   "mimetype": "text/x-python",
   "name": "python",
   "nbconvert_exporter": "python",
   "pygments_lexer": "ipython2",
   "version": "2.7.11"
  }
 },
 "nbformat": 4,
 "nbformat_minor": 0
}
