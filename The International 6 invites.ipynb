{
 "cells": [
  {
   "cell_type": "markdown",
   "metadata": {},
   "source": [
    "<h1 align=\"center\"> ELO Ranking for professional Dota team</h1>"
   ]
  },
  {
   "cell_type": "markdown",
   "metadata": {},
   "source": [
    "<h2 align=\"center\"> The International 6 Invitation</h2>\n"
   ]
  },
  {
   "cell_type": "code",
   "execution_count": 1,
   "metadata": {
    "collapsed": true
   },
   "outputs": [],
   "source": [
    "# Some import\n",
    "import pandas as pd"
   ]
  },
  {
   "cell_type": "markdown",
   "metadata": {},
   "source": [
    "<h2> Elo funtion and class</h2>\n"
   ]
  },
  {
   "cell_type": "code",
   "execution_count": 2,
   "metadata": {
    "collapsed": true
   },
   "outputs": [],
   "source": [
    "# Elo formula \n",
    "# R=R+KG(W-We)\n",
    "# R = Elo rank\n",
    "# K = Weight of competition\n",
    "# G = coefficient according to the result\n",
    "\n",
    "def compute_elo(Team1, Team2 ,score1, score2 ,Tournament):\n",
    "    elo1 = Team1.elo \n",
    "    elo2 = Team2.elo \n",
    "    k = Tournament.weight\n",
    "    We1 = 1/(1+10**(-(elo1-elo2)/400))\n",
    "    We2 = 1/(1+10**(-(elo2-elo1)/400))\n",
    "    \n",
    "    if(score1==score2):\n",
    "        elo1 = elo1 + k * 1 *(0.5-We1)\n",
    "        elo2 = elo2 + k * 1 *(0.5-We2)\n",
    "    elif(score1>score2+1):\n",
    "        elo1 = elo1 + k * 1.5 *(1-We1)\n",
    "        elo2 = elo2 - k * 1.5 *(We2)\n",
    "    elif(score1>score2):\n",
    "        elo1 = elo1 + k * 1 *(1-We1)\n",
    "        elo2 = elo2 - k * 1 *(We2)\n",
    "    elif(score2>score1+1):\n",
    "        elo1 = elo1 - k * 1.5 *(We1)\n",
    "        elo2 = elo2 + k * 1.5 *(1-We2)\n",
    "    elif(score2>score1):\n",
    "        elo1 = elo1 - k * 1 *(We1)\n",
    "        elo2 = elo2 + k * 1 *(1-We2)\n",
    "    \n",
    "    Team1.elo = round(elo1)\n",
    "    Team2.elo = round(elo2)\n",
    "\n",
    "def display_rank(List_team):\n",
    "    l =[]\n",
    "    for team in List_team:\n",
    "        l.append([team.name,team.elo])\n",
    "    df =pd.DataFrame(data=l, columns=[\"team\",\"Rank\"])\n",
    "    print df.sort(\"Rank\", ascending=0).reset_index(drop=True)"
   ]
  },
  {
   "cell_type": "code",
   "execution_count": 3,
   "metadata": {
    "collapsed": true
   },
   "outputs": [],
   "source": [
    "class Team:\n",
    "    def __init__(self,name, elo=1000):\n",
    "        self.elo = elo\n",
    "        self.name = name\n",
    "        \n",
    "    \n",
    "class Tournament:\n",
    "        def __init__(self,name, weight):\n",
    "            self.weight = weight\n",
    "            self.name = name"
   ]
  },
  {
   "cell_type": "markdown",
   "metadata": {},
   "source": [
    "### Weight of tournament\n",
    "* The International: 60\n",
    "* Major: 50\n",
    "* Cash price >200k: 30\n",
    "* Cash price >100k & <200k: 20\n",
    "* Cash price <100K: 10"
   ]
  },
  {
   "cell_type": "markdown",
   "metadata": {},
   "source": [
    "<h2>Manila Major</h2>\n"
   ]
  },
  {
   "cell_type": "code",
   "execution_count": 4,
   "metadata": {
    "collapsed": false
   },
   "outputs": [],
   "source": [
    "# Create Tournament\n",
    "Manila_major = Tournament(\"The Minila Major 2016\",50)\n",
    "\n",
    "Evil_Geniuses  = Team(\"Evil Geniuses\", 1000)\n",
    "Secret  = Team(\"Team Secret\", 1000)\n",
    "LGD_Gaming  = Team(\"LGD Gaming\", 1000)\n",
    "Newbee  = Team(\"Newbee\", 1000)\n",
    "Fnatic  = Team(\"Fnatic\", 1000)\n",
    "Alliance = Team(\"Alliance\",1000)\n",
    "OG = Team(\"OG\",1000)\n",
    "TL = Team(\"Team Liquid\",1000)\n",
    "Complexity = Team(\"compLexity Gaming\", 1000)\n",
    "MVP_Phoenix=Team(\"MVP Phoenix\", 1000)\n",
    "Wings = Team(\"Wings Gaming\",1000)\n",
    "VGr = Team(\"Vici Gaming Reborn\",1000)\n",
    "Navi = Team(\"Natus Vincere\",1000)\n",
    "DC = Team(\"Digital Chaos\",1000)\n",
    "Empire = Team(\"Team Empire\", 1000)\n",
    "Mineski = Team(\"Mineski\", 1000)\n",
    "\n",
    "\n",
    "List_team = [Evil_Geniuses,Secret,LGD_Gaming,Newbee,Fnatic\n",
    "             , Alliance, OG, TL, Complexity, MVP_Phoenix, VGr,Navi,DC,Empire,Mineski, Wings]\n"
   ]
  },
  {
   "cell_type": "code",
   "execution_count": 5,
   "metadata": {
    "collapsed": false
   },
   "outputs": [],
   "source": [
    "# Group stage\n",
    "compute_elo(OG,Empire,2,0,Manila_major)\n",
    "compute_elo(Newbee,Complexity,2,0,Manila_major)\n",
    "compute_elo(Newbee,OG,2,0,Manila_major)\n",
    "compute_elo(Empire,Complexity,2,0,Manila_major)\n",
    "compute_elo(OG,Empire,2,1,Manila_major)\n",
    "\n",
    "compute_elo(DC,Wings,2,1,Manila_major)\n",
    "compute_elo(Navi,Secret,2,0,Manila_major)\n",
    "compute_elo(Navi,DC,2,0,Manila_major)\n",
    "compute_elo(Wings,Secret,2,1,Manila_major)\n",
    "compute_elo(DC,Wings,2,0,Manila_major)\n",
    "\n",
    "compute_elo(TL,Alliance,2,1,Manila_major)\n",
    "compute_elo(Fnatic,VGr,2,0,Manila_major)\n",
    "compute_elo(TL,Fnatic,2,1,Manila_major)\n",
    "compute_elo(Alliance,VGr,2,0,Manila_major)\n",
    "compute_elo(Fnatic,Alliance,2,1,Manila_major)\n",
    "\n",
    "compute_elo(Evil_Geniuses,Mineski,2,1,Manila_major)\n",
    "compute_elo(LGD_Gaming,MVP_Phoenix,2,0,Manila_major)\n",
    "compute_elo(LGD_Gaming,Evil_Geniuses,2,1,Manila_major)\n",
    "compute_elo(MVP_Phoenix,Mineski,2,1,Manila_major)\n",
    "compute_elo(MVP_Phoenix,Evil_Geniuses,2,0,Manila_major)\n",
    "\n",
    "# Play-off\n",
    "compute_elo(MVP_Phoenix,TL,2,0,Manila_major)\n",
    "compute_elo(OG,Navi,2,0,Manila_major)\n",
    "compute_elo(Newbee,DC,2,1,Manila_major)\n",
    "compute_elo(Fnatic,LGD_Gaming,2,1,Manila_major)\n",
    "compute_elo(OG,MVP_Phoenix,2,0,Manila_major)\n",
    "compute_elo(Newbee,Fnatic,2,0,Manila_major)\n",
    "compute_elo(OG,Newbee,2,1,Manila_major)\n",
    "\n",
    "compute_elo(Complexity,Wings,1,0,Manila_major)\n",
    "compute_elo(Alliance,Mineski,1,0,Manila_major)\n",
    "compute_elo(VGr,Evil_Geniuses,1,0,Manila_major)\n",
    "compute_elo(Empire,Secret,1,0,Manila_major)\n",
    "compute_elo(TL,Complexity,2,0,Manila_major)\n",
    "compute_elo(Navi,Alliance,2,1,Manila_major)\n",
    "compute_elo(VGr,DC,2,1,Manila_major)\n",
    "compute_elo(LGD_Gaming,Empire,2,0,Manila_major)\n",
    "compute_elo(TL,Navi,2,0,Manila_major)\n",
    "compute_elo(LGD_Gaming,VGr,2,1,Manila_major)\n",
    "compute_elo(TL,Fnatic,2,0,Manila_major)\n",
    "compute_elo(LGD_Gaming,MVP_Phoenix,2,0,Manila_major)\n",
    "compute_elo(TL,LGD_Gaming,2,0,Manila_major)\n",
    "compute_elo(TL,Newbee,2,1,Manila_major)\n",
    "compute_elo(OG,TL,3,1,Manila_major)"
   ]
  },
  {
   "cell_type": "code",
   "execution_count": 6,
   "metadata": {
    "collapsed": false
   },
   "outputs": [
    {
     "name": "stdout",
     "output_type": "stream",
     "text": [
      "                  team  Rank\n",
      "0                   OG  1211\n",
      "1          Team Liquid  1163\n",
      "2               Newbee  1119\n",
      "3           LGD Gaming  1116\n",
      "4        Natus Vincere  1050\n",
      "5          MVP Phoenix  1034\n",
      "6               Fnatic  1032\n",
      "7             Alliance  1013\n",
      "8        Digital Chaos  1005\n",
      "9          Team Empire  1001\n",
      "10  Vici Gaming Reborn   999\n",
      "11       Evil Geniuses   962\n",
      "12        Wings Gaming   959\n",
      "13   compLexity Gaming   958\n",
      "14         Team Secret   953\n",
      "15             Mineski   953\n"
     ]
    }
   ],
   "source": [
    "display_rank(List_team)"
   ]
  },
  {
   "cell_type": "markdown",
   "metadata": {
    "collapsed": true
   },
   "source": [
    "<h2>ESL One Frankfurt 2016</h2>\n"
   ]
  },
  {
   "cell_type": "code",
   "execution_count": 7,
   "metadata": {
    "collapsed": true
   },
   "outputs": [],
   "source": [
    "# Create Tournament\n",
    "ESL = Tournament(\"ESL One Frankfurt 2016\",30)\n",
    "\n",
    "# Introducing new teams\n",
    "VP = Team(\"Virtus.Pro\",1000)\n",
    "Vega = Team(\"Vega Squadron\",1000)\n",
    "\n",
    "List_team.append(VP)\n",
    "List_team.append(Vega)"
   ]
  },
  {
   "cell_type": "code",
   "execution_count": 8,
   "metadata": {
    "collapsed": true
   },
   "outputs": [],
   "source": [
    "# Group stage\n",
    "\n",
    "compute_elo(Vega,TL,2,1,ESL)\n",
    "compute_elo(Alliance,Fnatic,2,1,ESL)\n",
    "compute_elo(Vega,Alliance,2,1,ESL)\n",
    "compute_elo(TL,Fnatic,2,0,ESL)\n",
    "compute_elo(TL,Alliance,2,0,ESL)\n",
    "\n",
    "compute_elo(OG,Navi,2,0,ESL)\n",
    "compute_elo(Complexity,VP,2,1,ESL)\n",
    "compute_elo(OG,Complexity,2,0,ESL)\n",
    "compute_elo(Navi,VP,2,1,ESL)\n",
    "compute_elo(Navi,Complexity,2,0,ESL)\n",
    "\n",
    "# Play-off\n",
    "compute_elo(OG,TL,2,1,ESL)\n",
    "compute_elo(Navi,Vega,2,0,ESL)\n",
    "compute_elo(OG,Navi,3,0,ESL) # Miracle support Pogchamp\n"
   ]
  },
  {
   "cell_type": "code",
   "execution_count": 9,
   "metadata": {
    "collapsed": false
   },
   "outputs": [
    {
     "name": "stdout",
     "output_type": "stream",
     "text": [
      "                  team  Rank\n",
      "0                   OG  1258\n",
      "1          Team Liquid  1158\n",
      "2               Newbee  1119\n",
      "3           LGD Gaming  1116\n",
      "4        Natus Vincere  1075\n",
      "5          MVP Phoenix  1034\n",
      "6        Vega Squadron  1016\n",
      "7        Digital Chaos  1005\n",
      "8               Fnatic  1001\n",
      "9          Team Empire  1001\n",
      "10            Alliance  1000\n",
      "11  Vici Gaming Reborn   999\n",
      "12          Virtus.Pro   970\n",
      "13       Evil Geniuses   962\n",
      "14        Wings Gaming   959\n",
      "15         Team Secret   953\n",
      "16             Mineski   953\n",
      "17   compLexity Gaming   949\n"
     ]
    }
   ],
   "source": [
    "display_rank(List_team)"
   ]
  },
  {
   "cell_type": "markdown",
   "metadata": {},
   "source": [
    "<h2>Nanyang Dota 2 Championships Season 2</h2>\n"
   ]
  },
  {
   "cell_type": "code",
   "execution_count": 10,
   "metadata": {
    "collapsed": true
   },
   "outputs": [],
   "source": [
    "# Create Tournament\n",
    "NY = Tournament(\"Nanyang Dota 2 Championships Season 2\",30)\n",
    "\n",
    "# Introducing new teams\n",
    "CDEC_Y = Team(\"CDEC Youth\",1000)\n",
    "Warrior = Team(\"WarriorGaming.Unity\")\n",
    "List_team.append(CDEC_Y)\n",
    "List_team.append(Warrior)"
   ]
  },
  {
   "cell_type": "code",
   "execution_count": 11,
   "metadata": {
    "collapsed": true
   },
   "outputs": [],
   "source": [
    "compute_elo(CDEC_Y,DC,2,0,NY)\n",
    "compute_elo(Wings,Empire,2,0,NY)\n",
    "compute_elo(LGD_Gaming,Warrior,2,0,NY)\n",
    "compute_elo(Newbee,VGr,2,1,NY)\n",
    "compute_elo(Wings,CDEC_Y,2,0,NY)\n",
    "compute_elo(Newbee,LGD_Gaming,2,0,NY)\n",
    "compute_elo(Wings,Newbee,2,1,NY)\n",
    "\n",
    "compute_elo(DC,Empire,2,1,NY)\n",
    "compute_elo(VGr,Warrior,2,0,NY)\n",
    "compute_elo(LGD_Gaming,DC,2,0,NY)\n",
    "compute_elo(CDEC_Y,VGr,2,0,NY)\n",
    "compute_elo(LGD_Gaming,CDEC_Y,2,0,NY)\n",
    "compute_elo(Newbee,LGD_Gaming,2,0,NY)\n",
    "compute_elo(Newbee,Wings,3,2,NY)\n",
    "\n"
   ]
  },
  {
   "cell_type": "code",
   "execution_count": 12,
   "metadata": {
    "collapsed": false
   },
   "outputs": [
    {
     "name": "stdout",
     "output_type": "stream",
     "text": [
      "                   team  Rank\n",
      "0                    OG  1258\n",
      "1                Newbee  1164\n",
      "2           Team Liquid  1158\n",
      "3            LGD Gaming  1117\n",
      "4         Natus Vincere  1075\n",
      "5           MVP Phoenix  1034\n",
      "6          Wings Gaming  1020\n",
      "7         Vega Squadron  1016\n",
      "8            CDEC Youth  1005\n",
      "9                Fnatic  1001\n",
      "10             Alliance  1000\n",
      "11   Vici Gaming Reborn   988\n",
      "12        Digital Chaos   981\n",
      "13           Virtus.Pro   970\n",
      "14  WarriorGaming.Unity   963\n",
      "15        Evil Geniuses   962\n",
      "16          Team Empire   961\n",
      "17              Mineski   953\n",
      "18          Team Secret   953\n",
      "19    compLexity Gaming   949\n"
     ]
    }
   ],
   "source": [
    "display_rank(List_team)"
   ]
  },
  {
   "cell_type": "markdown",
   "metadata": {},
   "source": [
    "<h2>The Summit 5</h2>\n"
   ]
  },
  {
   "cell_type": "code",
   "execution_count": 14,
   "metadata": {
    "collapsed": true
   },
   "outputs": [],
   "source": [
    "# Create Tournament\n",
    "TS5 = Tournament(\"The Summit 5\",20)\n",
    "\n",
    "# Introducing new teams\n",
    "Ad_Finem = Team(\"Ad Finem\",1000)\n",
    "FDL = Team(\"FDL\",1000)\n",
    "List_team.append(Ad_Finem)\n",
    "List_team.append(FDL)"
   ]
  },
  {
   "cell_type": "code",
   "execution_count": 15,
   "metadata": {
    "collapsed": true
   },
   "outputs": [],
   "source": [
    "compute_elo(OG,FDL,2,0,TS5)\n",
    "compute_elo(Fnatic,DC,2,0,TS5)\n",
    "compute_elo(Wings,Navi,2,1,TS5)\n",
    "compute_elo(TL,Ad_Finem,2,1,TS5)\n",
    "compute_elo(OG,Fnatic,2,1,TS5)\n",
    "compute_elo(Wings,TL,2,1,TS5)\n",
    "compute_elo(Wings,OG,2,0,TS5)\n",
    "\n",
    "compute_elo(DC,FDL,2,0,TS5)\n",
    "compute_elo(Navi,Ad_Finem,2,0,TS5)\n",
    "compute_elo(TL,DC,2,0,TS5)\n",
    "compute_elo(Navi,Fnatic,2,1,TS5)\n",
    "compute_elo(TL,Navi,2,0,TS5)\n",
    "compute_elo(OG,TL,2,1,TS5)\n",
    "compute_elo(Wings,OG,3,1,TS5)"
   ]
  },
  {
   "cell_type": "code",
   "execution_count": 16,
   "metadata": {
    "collapsed": false
   },
   "outputs": [
    {
     "name": "stdout",
     "output_type": "stream",
     "text": [
      "                   team  Rank\n",
      "0                    OG  1231\n",
      "1                Newbee  1164\n",
      "2           Team Liquid  1162\n",
      "3            LGD Gaming  1117\n",
      "4          Wings Gaming  1091\n",
      "5         Natus Vincere  1071\n",
      "6           MVP Phoenix  1034\n",
      "7         Vega Squadron  1016\n",
      "8            CDEC Youth  1005\n",
      "9                Fnatic  1003\n",
      "10             Alliance  1000\n",
      "11   Vici Gaming Reborn   988\n",
      "12             Ad Finem   982\n",
      "13                  FDL   978\n",
      "14        Digital Chaos   975\n",
      "15           Virtus.Pro   970\n",
      "16  WarriorGaming.Unity   963\n",
      "17        Evil Geniuses   962\n",
      "18          Team Empire   961\n",
      "19              Mineski   953\n",
      "20          Team Secret   953\n",
      "21    compLexity Gaming   949\n"
     ]
    }
   ],
   "source": [
    "display_rank(List_team)"
   ]
  },
  {
   "cell_type": "markdown",
   "metadata": {},
   "source": [
    "<h2>SL i-League StarSeries Season 2</h2>\n"
   ]
  },
  {
   "cell_type": "code",
   "execution_count": 18,
   "metadata": {
    "collapsed": true
   },
   "outputs": [],
   "source": [
    "# Create Tournament\n",
    "SL = Tournament(\"SL i-League StarSeries Season 2\",30)\n",
    "\n",
    "# Introducing new teams\n",
    "Friends = Team(\"F.R.I.E.N.D.S.\",1000)\n",
    "\n",
    "List_team.append(Friends)"
   ]
  },
  {
   "cell_type": "code",
   "execution_count": 19,
   "metadata": {
    "collapsed": true
   },
   "outputs": [],
   "source": [
    "compute_elo(Evil_Geniuses,CDEC_Y,2,0,SL)\n",
    "compute_elo(Navi,Fnatic,2,1,SL)\n",
    "compute_elo(DC,Friends,2,0,SL)\n",
    "compute_elo(Secret,Complexity,2,0,SL)\n",
    "compute_elo(Navi,Evil_Geniuses,2,0,SL)\n",
    "compute_elo(Secret,DC,2,1,SL)\n",
    "compute_elo(Secret,Navi,2,0,SL)\n",
    "\n",
    "compute_elo(Fnatic,CDEC_Y,2,1,SL)\n",
    "compute_elo(Friends,Complexity,2,1,SL)\n",
    "compute_elo(Fnatic,DC,2,1,SL)\n",
    "compute_elo(Friends,Evil_Geniuses,2,1,SL)\n",
    "compute_elo(Fnatic,Friends,2,0,SL)\n",
    "compute_elo(Navi,Fnatic,2,0,SL)\n",
    "compute_elo(Navi,Secret,3,1,SL)"
   ]
  },
  {
   "cell_type": "code",
   "execution_count": 20,
   "metadata": {
    "collapsed": false
   },
   "outputs": [
    {
     "name": "stdout",
     "output_type": "stream",
     "text": [
      "                   team  Rank\n",
      "0                    OG  1231\n",
      "1                Newbee  1164\n",
      "2           Team Liquid  1162\n",
      "3            LGD Gaming  1117\n",
      "4         Natus Vincere  1109\n",
      "5          Wings Gaming  1091\n",
      "6           MVP Phoenix  1034\n",
      "7                Fnatic  1020\n",
      "8         Vega Squadron  1016\n",
      "9           Team Secret  1002\n",
      "10             Alliance  1000\n",
      "11   Vici Gaming Reborn   988\n",
      "12             Ad Finem   982\n",
      "13       F.R.I.E.N.D.S.   982\n",
      "14                  FDL   978\n",
      "15           Virtus.Pro   970\n",
      "16        Digital Chaos   969\n",
      "17           CDEC Youth   965\n",
      "18  WarriorGaming.Unity   963\n",
      "19          Team Empire   961\n",
      "20        Evil Geniuses   957\n",
      "21              Mineski   953\n",
      "22    compLexity Gaming   914\n"
     ]
    }
   ],
   "source": [
    "display_rank(List_team)"
   ]
  },
  {
   "cell_type": "markdown",
   "metadata": {},
   "source": [
    "## Predicted places for The International 2016\n",
    "\n",
    "* OG\n",
    "* Newbee\n",
    "* Team Liquid\n",
    "* LGD Gaming\n",
    "* Navi\n",
    "* Wings\n",
    "* MVP Phoenix\n",
    "* Fnatic \n",
    "* Secret\n",
    "* Alliance / Escape Gaming / Ehome / Execration / TnC Gaming\n",
    "* Vici Gaming Reborn\n",
    "* DC\n",
    "* Evil Geniuses\n",
    "* Complexity Gaming\n",
    "\n",
    "If we remove Execration and Complexity \n",
    "\n",
    "* OG\n",
    "* Newbee\n",
    "* Team Liquid\n",
    "* LGD Gaming\n",
    "* Navi\n",
    "* Wings\n",
    "* MVP Phoenix\n",
    "* Fnatic \n",
    "* Secret\n",
    "* Alliance / Escape Gaming / Ehome/ TnC Gaming\n",
    "* Vici Gaming Reborn\n",
    "* DC\n",
    "* Evil Geniuses\n"
   ]
  },
  {
   "cell_type": "code",
   "execution_count": null,
   "metadata": {
    "collapsed": true
   },
   "outputs": [],
   "source": []
  }
 ],
 "metadata": {
  "kernelspec": {
   "display_name": "Python 2",
   "language": "python",
   "name": "python2"
  },
  "language_info": {
   "codemirror_mode": {
    "name": "ipython",
    "version": 2
   },
   "file_extension": ".py",
   "mimetype": "text/x-python",
   "name": "python",
   "nbconvert_exporter": "python",
   "pygments_lexer": "ipython2",
   "version": "2.7.12"
  }
 },
 "nbformat": 4,
 "nbformat_minor": 0
}
