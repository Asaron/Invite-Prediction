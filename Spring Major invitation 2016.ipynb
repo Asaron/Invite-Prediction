{
 "cells": [
  {
   "cell_type": "markdown",
   "metadata": {},
   "source": [
    "<h1 align=\"center\"> ELO Ranking for professional Dota team</h1>"
   ]
  },
  {
   "cell_type": "markdown",
   "metadata": {},
   "source": [
    "<h2 align=\"center\"> Shangai Major Invitation 2016</h2>\n"
   ]
  },
  {
   "cell_type": "code",
   "execution_count": 1,
   "metadata": {
    "collapsed": true
   },
   "outputs": [],
   "source": [
    "# Some import\n",
    "import pandas as pd"
   ]
  },
  {
   "cell_type": "markdown",
   "metadata": {},
   "source": [
    "<h2> Elo funtion and class</h2>"
   ]
  },
  {
   "cell_type": "code",
   "execution_count": 3,
   "metadata": {
    "collapsed": true
   },
   "outputs": [],
   "source": [
    "# Elo formula \n",
    "# R=R+KG(W-We)\n",
    "# R = Elo rank\n",
    "# K = Weight of competition\n",
    "# G = coefficient according to the result\n",
    "\n",
    "def compute_elo(Team1, Team2 ,score1, score2 ,Tournament):\n",
    "    elo1 = Team1.elo \n",
    "    elo2 = Team2.elo \n",
    "    k = Tournament.weight\n",
    "    We1 = 1/(1+10**(-(elo1-elo2)/400))\n",
    "    We2 = 1/(1+10**(-(elo2-elo1)/400))\n",
    "    \n",
    "    if(score1==score2):\n",
    "        elo1 = elo1 + k * 1 *(0.5-We1)\n",
    "        elo2 = elo2 + k * 1 *(0.5-We2)\n",
    "    elif(score1>score2+1):\n",
    "        elo1 = elo1 + k * 1.5 *(1-We1)\n",
    "        elo2 = elo2 - k * 1.5 *(We2)\n",
    "    elif(score1>score2):\n",
    "        elo1 = elo1 + k * 1 *(1-We1)\n",
    "        elo2 = elo2 - k * 1 *(We2)\n",
    "    elif(score2>score1+1):\n",
    "        elo1 = elo1 - k * 1.5 *(We1)\n",
    "        elo2 = elo2 + k * 1.5 *(1-We2)\n",
    "    elif(score2>score1):\n",
    "        elo1 = elo1 - k * 1 *(We1)\n",
    "        elo2 = elo2 + k * 1 *(1-We2)\n",
    "    \n",
    "    Team1.elo = round(elo1)\n",
    "    Team2.elo = round(elo2)\n",
    "\n",
    "def display_rank(List_team):\n",
    "    l =[]\n",
    "    for team in List_team:\n",
    "        l.append([team.name,team.elo])\n",
    "    df =pd.DataFrame(data=l, columns=[\"team\",\"Rank\"])\n",
    "    print df.sort(\"Rank\", ascending=0).reset_index(drop=True)"
   ]
  },
  {
   "cell_type": "code",
   "execution_count": 4,
   "metadata": {
    "collapsed": true
   },
   "outputs": [],
   "source": [
    "class Team:\n",
    "    def __init__(self,name, elo=1000):\n",
    "        self.elo = elo\n",
    "        self.name = name\n",
    "        \n",
    "    \n",
    "class Tournament:\n",
    "        def __init__(self,name, weight):\n",
    "            self.weight = weight\n",
    "            self.name = name"
   ]
  },
  {
   "cell_type": "markdown",
   "metadata": {},
   "source": [
    "### Weight of tournament\n",
    "* The International: 60\n",
    "* Major: 50\n",
    "* Cash price >200k: 30\n",
    "* Cash price >100k & <200k: 20\n",
    "* Cash price <100K: 10"
   ]
  },
  {
   "cell_type": "markdown",
   "metadata": {},
   "source": [
    "<h2>NotLikeThis The Shangai Major NotLikeThis</h2>\n"
   ]
  },
  {
   "cell_type": "code",
   "execution_count": 5,
   "metadata": {
    "collapsed": true
   },
   "outputs": [],
   "source": [
    "# Create Tournament\n",
    "Shangai_major = Tournament(\"NotLikeThis The Shangai Major 2015 NotLikeThis\",50)\n",
    "\n",
    "Vici_Gaming = Team(\"Vici Gaming\", 1000)\n",
    "Evil_Geniuses  = Team(\"Evil Geniuses\", 1000)\n",
    "Team_Secret  = Team(\"Team Secret\", 1000)\n",
    "LGD_Gaming  = Team(\"LGD Gaming\", 1000)\n",
    "Virtus_pro  = Team(\"Virtus Pro\", 1000)\n",
    "Newbee  = Team(\"Newbee\", 1000)\n",
    "Fnatic  = Team(\"Fnatic\", 1000)\n",
    "CDEC_Gaming = Team(\"CDEC Gaming\", 1000)\n",
    "Ehome  = Team(\"EHOME\", 1000)\n",
    "Alliance = Team(\"Alliance\",1000)\n",
    "OG = Team(\"OG\",1000)\n",
    "TL = Team(\"Team Liquid\",1000)\n",
    "Team_Spirit = Team(\"Team_Spirit\",1000)\n",
    "Team_Archon = Team(\"Team Archon\", 1000)\n",
    "Complexity = Team(\"compLexity Gaming\", 1000)\n",
    "MVP_Phoenix=Team(\"MVP Phoenix\", 1000)\n",
    "\n",
    "List_team = [Vici_Gaming,Evil_Geniuses,Team_Secret,LGD_Gaming,Virtus_pro,Newbee,Fnatic\n",
    "             ,CDEC_Gaming,Ehome, Alliance, OG, TL, Team_Spirit, Team_Archon, Complexity, MVP_Phoenix]\n"
   ]
  },
  {
   "cell_type": "code",
   "execution_count": null,
   "metadata": {
    "collapsed": true
   },
   "outputs": [],
   "source": []
  }
 ],
 "metadata": {
  "kernelspec": {
   "display_name": "Python 2",
   "language": "python",
   "name": "python2"
  },
  "language_info": {
   "codemirror_mode": {
    "name": "ipython",
    "version": 2
   },
   "file_extension": ".py",
   "mimetype": "text/x-python",
   "name": "python",
   "nbconvert_exporter": "python",
   "pygments_lexer": "ipython2",
   "version": "2.7.11"
  }
 },
 "nbformat": 4,
 "nbformat_minor": 0
}
