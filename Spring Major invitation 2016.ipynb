{
 "cells": [
  {
   "cell_type": "markdown",
   "metadata": {},
   "source": [
    "<h1 align=\"center\"> ELO Ranking for professional Dota team</h1>"
   ]
  },
  {
   "cell_type": "markdown",
   "metadata": {},
   "source": [
    "<h2 align=\"center\"> Shangai Major Invitation 2016</h2>\n"
   ]
  },
  {
   "cell_type": "code",
   "execution_count": 1,
   "metadata": {
    "collapsed": true
   },
   "outputs": [],
   "source": [
    "# Some import\n",
    "import pandas as pd"
   ]
  },
  {
   "cell_type": "markdown",
   "metadata": {},
   "source": [
    "<h2> Elo funtion and class</h2>"
   ]
  },
  {
   "cell_type": "code",
   "execution_count": 2,
   "metadata": {
    "collapsed": true
   },
   "outputs": [],
   "source": [
    "# Elo formula \n",
    "# R=R+KG(W-We)\n",
    "# R = Elo rank\n",
    "# K = Weight of competition\n",
    "# G = coefficient according to the result\n",
    "\n",
    "def compute_elo(Team1, Team2 ,score1, score2 ,Tournament):\n",
    "    elo1 = Team1.elo \n",
    "    elo2 = Team2.elo \n",
    "    k = Tournament.weight\n",
    "    We1 = 1/(1+10**(-(elo1-elo2)/400))\n",
    "    We2 = 1/(1+10**(-(elo2-elo1)/400))\n",
    "    \n",
    "    if(score1==score2):\n",
    "        elo1 = elo1 + k * 1 *(0.5-We1)\n",
    "        elo2 = elo2 + k * 1 *(0.5-We2)\n",
    "    elif(score1>score2+1):\n",
    "        elo1 = elo1 + k * 1.5 *(1-We1)\n",
    "        elo2 = elo2 - k * 1.5 *(We2)\n",
    "    elif(score1>score2):\n",
    "        elo1 = elo1 + k * 1 *(1-We1)\n",
    "        elo2 = elo2 - k * 1 *(We2)\n",
    "    elif(score2>score1+1):\n",
    "        elo1 = elo1 - k * 1.5 *(We1)\n",
    "        elo2 = elo2 + k * 1.5 *(1-We2)\n",
    "    elif(score2>score1):\n",
    "        elo1 = elo1 - k * 1 *(We1)\n",
    "        elo2 = elo2 + k * 1 *(1-We2)\n",
    "    \n",
    "    Team1.elo = round(elo1)\n",
    "    Team2.elo = round(elo2)\n",
    "\n",
    "def display_rank(List_team):\n",
    "    l =[]\n",
    "    for team in List_team:\n",
    "        l.append([team.name,team.elo])\n",
    "    df =pd.DataFrame(data=l, columns=[\"team\",\"Rank\"])\n",
    "    print df.sort(\"Rank\", ascending=0).reset_index(drop=True)"
   ]
  },
  {
   "cell_type": "code",
   "execution_count": 3,
   "metadata": {
    "collapsed": true
   },
   "outputs": [],
   "source": [
    "class Team:\n",
    "    def __init__(self,name, elo=1000):\n",
    "        self.elo = elo\n",
    "        self.name = name\n",
    "        \n",
    "    \n",
    "class Tournament:\n",
    "        def __init__(self,name, weight):\n",
    "            self.weight = weight\n",
    "            self.name = name"
   ]
  },
  {
   "cell_type": "markdown",
   "metadata": {},
   "source": [
    "### Weight of tournament\n",
    "* The International: 60\n",
    "* Major: 50\n",
    "* Cash price >200k: 30\n",
    "* Cash price >100k & <200k: 20\n",
    "* Cash price <100K: 10"
   ]
  },
  {
   "cell_type": "markdown",
   "metadata": {},
   "source": [
    "<h2>NotLikeThis The Shangai Major NotLikeThis</h2>\n"
   ]
  },
  {
   "cell_type": "code",
   "execution_count": 4,
   "metadata": {
    "collapsed": true
   },
   "outputs": [],
   "source": [
    "# Create Tournament\n",
    "Shangai_major = Tournament(\"NotLikeThis The Shangai Major 2015 NotLikeThis\",50)\n",
    "\n",
    "Vici_Gaming = Team(\"Vici Gaming\", 1000)\n",
    "Evil_Geniuses  = Team(\"Evil Geniuses\", 1000)\n",
    "Team_Secret  = Team(\"Team Secret\", 1000)\n",
    "LGD_Gaming  = Team(\"LGD Gaming\", 1000)\n",
    "Virtus_pro  = Team(\"Virtus Pro\", 1000)\n",
    "Newbee  = Team(\"Newbee\", 1000)\n",
    "Fnatic  = Team(\"Fnatic\", 1000)\n",
    "CDEC_Gaming = Team(\"CDEC Gaming\", 1000)\n",
    "Ehome  = Team(\"EHOME\", 1000)\n",
    "Alliance = Team(\"Alliance\",1000)\n",
    "OG = Team(\"OG\",1000)\n",
    "TL = Team(\"Team Liquid\",1000)\n",
    "Team_Spirit = Team(\"Team_Spirit\",1000)\n",
    "Team_Archon = Team(\"Team Archon\", 1000)\n",
    "Complexity = Team(\"compLexity Gaming\", 1000)\n",
    "MVP_Phoenix=Team(\"MVP Phoenix\", 1000)\n",
    "\n",
    "List_team = [Vici_Gaming,Evil_Geniuses,Team_Secret,LGD_Gaming,Virtus_pro,Newbee,Fnatic\n",
    "             ,CDEC_Gaming,Ehome, Alliance, OG, TL, Team_Spirit, Team_Archon, Complexity, MVP_Phoenix]\n"
   ]
  },
  {
   "cell_type": "code",
   "execution_count": 5,
   "metadata": {
    "collapsed": true
   },
   "outputs": [],
   "source": [
    "# Groupe stage\n",
    "compute_elo(MVP_Phoenix,Ehome,2,0,Shangai_major)\n",
    "compute_elo(Team_Secret,CDEC_Gaming,2,1,Shangai_major)\n",
    "compute_elo(Ehome,CDEC_Gaming,2,1,Shangai_major)\n",
    "compute_elo(MVP_Phoenix,Team_Secret,2,0,Shangai_major)\n",
    "compute_elo(Team_Secret,Ehome,2,0,Shangai_major)\n",
    "compute_elo(Alliance,Team_Spirit,2,0,Shangai_major)\n",
    "compute_elo(Fnatic,Vici_Gaming,2,1,Shangai_major)\n",
    "compute_elo(Team_Spirit,Vici_Gaming,2,0,Shangai_major)\n",
    "compute_elo(Alliance,Fnatic,2,0,Shangai_major)\n",
    "compute_elo(Fnatic,Team_Spirit,2,1,Shangai_major)\n",
    "compute_elo(OG,Team_Archon,2,0,Shangai_major)\n",
    "compute_elo(LGD_Gaming,Newbee,2,1,Shangai_major)\n",
    "compute_elo(LGD_Gaming,Team_Archon,2,0,Shangai_major)\n",
    "compute_elo(OG,LGD_Gaming,2,1,Shangai_major)\n",
    "compute_elo(LGD_Gaming,Newbee,2,0,Shangai_major)\n",
    "compute_elo(Evil_Geniuses,Complexity,2,1,Shangai_major)\n",
    "compute_elo(Virtus_pro,TL,2,1,Shangai_major)\n",
    "compute_elo(TL,Complexity,2,0,Shangai_major)\n",
    "compute_elo(Evil_Geniuses,Virtus_pro,2,0,Shangai_major)\n",
    "compute_elo(TL,Virtus_pro,2,0,Shangai_major)\n",
    "\n",
    "# Play-off\n",
    "compute_elo(TL,Alliance,2,1,Shangai_major)\n",
    "compute_elo(MVP_Phoenix,LGD_Gaming,2,0,Shangai_major)\n",
    "compute_elo(Team_Secret,OG,2,1,Shangai_major)\n",
    "compute_elo(Evil_Geniuses,Fnatic,2,0,Shangai_major)\n",
    "compute_elo(TL,MVP_Phoenix,2,0,Shangai_major)\n",
    "compute_elo(Team_Secret,Evil_Geniuses,2,1,Shangai_major)\n",
    "compute_elo(Team_Secret,TL,2,0,Shangai_major)\n",
    "compute_elo(Ehome,Team_Archon,1,0,Shangai_major)\n",
    "compute_elo(Complexity,Team_Spirit,1,0,Shangai_major)\n",
    "compute_elo(Virtus_pro,Vici_Gaming,1,0,Shangai_major)\n",
    "compute_elo(Newbee,CDEC_Gaming,1,0,Shangai_major)\n",
    "compute_elo(Alliance,Ehome,1,0,Shangai_major)\n",
    "compute_elo(Complexity,LGD_Gaming,1,0,Shangai_major)\n",
    "compute_elo(OG,Virtus_pro,1,0,Shangai_major)\n",
    "compute_elo(Fnatic,Newbee,1,0,Shangai_major)\n",
    "compute_elo(Complexity,Alliance,2,1,Shangai_major)\n",
    "compute_elo(Fnatic,OG,2,1,Shangai_major)\n",
    "compute_elo(Evil_Geniuses,Complexity,2,0,Shangai_major)\n",
    "compute_elo(MVP_Phoenix,Fnatic,2,0,Shangai_major)\n",
    "compute_elo(Evil_Geniuses,MVP_Phoenix,2,0,Shangai_major)\n",
    "compute_elo(TL,Evil_Geniuses,2,0,Shangai_major)\n",
    "compute_elo(Team_Secret,TL,3,1,Shangai_major)"
   ]
  },
  {
   "cell_type": "code",
   "execution_count": 6,
   "metadata": {
    "collapsed": false
   },
   "outputs": [
    {
     "name": "stdout",
     "output_type": "stream",
     "text": [
      "                 team  Rank\n",
      "0         Team Secret  1188\n",
      "1       Evil Geniuses  1121\n",
      "2         Team Liquid  1109\n",
      "3         MVP Phoenix  1097\n",
      "4            Alliance  1071\n",
      "5                  OG  1064\n",
      "6              Fnatic  1029\n",
      "7          LGD Gaming  1024\n",
      "8   compLexity Gaming  1018\n",
      "9               EHOME   990\n",
      "10        Team_Spirit   983\n",
      "11         Virtus Pro   982\n",
      "12             Newbee   970\n",
      "13        CDEC Gaming   949\n",
      "14        Team Archon   944\n",
      "15        Vici Gaming   939\n"
     ]
    }
   ],
   "source": [
    "display_rank(List_team)"
   ]
  },
  {
   "cell_type": "markdown",
   "metadata": {},
   "source": [
    "<h2>Dota Pit League Season 4</h2>\n"
   ]
  },
  {
   "cell_type": "code",
   "execution_count": 7,
   "metadata": {
    "collapsed": true
   },
   "outputs": [],
   "source": [
    "# Create Tournament\n",
    "Pit_league = Tournament(\"Dota Pit League Season 4\",20)\n",
    "\n",
    "# Introducing new teams\n",
    "Empire = Team(\"Team Empire\", 1000)\n",
    "Navi = Team(\"Natus Vincere\", 1000)\n",
    "\n",
    "List_team.append(Navi)\n",
    "List_team.append(Empire)"
   ]
  },
  {
   "cell_type": "code",
   "execution_count": 8,
   "metadata": {
    "collapsed": true
   },
   "outputs": [],
   "source": [
    "compute_elo(MVP_Phoenix,OG,2,1,Pit_league)\n",
    "compute_elo(Complexity,Virtus_pro,2,0,Pit_league)\n",
    "compute_elo(Navi,Team_Secret,2,1,Pit_league)\n",
    "compute_elo(Evil_Geniuses,Empire,2,1,Pit_league)\n",
    "compute_elo(MVP_Phoenix,Complexity,2,0,Pit_league)\n",
    "compute_elo(Evil_Geniuses,Navi,2,1,Pit_league)\n",
    "compute_elo(MVP_Phoenix,Evil_Geniuses,3,0,Pit_league) #lul\n"
   ]
  },
  {
   "cell_type": "code",
   "execution_count": 9,
   "metadata": {
    "collapsed": false
   },
   "outputs": [
    {
     "name": "stdout",
     "output_type": "stream",
     "text": [
      "                 team  Rank\n",
      "0         Team Secret  1173\n",
      "1         MVP Phoenix  1134\n",
      "2       Evil Geniuses  1119\n",
      "3         Team Liquid  1109\n",
      "4            Alliance  1071\n",
      "5                  OG  1055\n",
      "6              Fnatic  1029\n",
      "7          LGD Gaming  1024\n",
      "8   compLexity Gaming  1019\n",
      "9       Natus Vincere  1008\n",
      "10        Team Empire   993\n",
      "11              EHOME   990\n",
      "12        Team_Spirit   983\n",
      "13             Newbee   970\n",
      "14         Virtus Pro   969\n",
      "15        CDEC Gaming   949\n",
      "16        Team Archon   944\n",
      "17        Vici Gaming   939\n"
     ]
    }
   ],
   "source": [
    "display_rank(List_team)"
   ]
  },
  {
   "cell_type": "markdown",
   "metadata": {},
   "source": [
    "<h2>StarLadder i-League Invitational</h2>\n"
   ]
  },
  {
   "cell_type": "code",
   "execution_count": 10,
   "metadata": {
    "collapsed": false
   },
   "outputs": [],
   "source": [
    "# Create Tournament\n",
    "Starladder = Tournament(\"StarLadder i-League Invitational\",20)\n",
    "\n",
    "# Introducing new teams\n",
    "VGr = Team(\"Vici Gaming Reborn\",1000)\n",
    "Vega = Team(\"Vega Squadron\",1000)\n",
    "\n",
    "List_team.append(VGr)\n",
    "List_team.append(Vega)"
   ]
  },
  {
   "cell_type": "code",
   "execution_count": 11,
   "metadata": {
    "collapsed": true
   },
   "outputs": [],
   "source": [
    "compute_elo(LGD_Gaming,Vega,2,0,Starladder)\n",
    "compute_elo(Alliance,Virtus_pro,2,0,Starladder)\n",
    "compute_elo(VGr,MVP_Phoenix,2,0,Starladder)\n",
    "compute_elo(Navi,OG,2,0,Starladder)\n",
    "compute_elo(LGD_Gaming,Alliance,2,1,Starladder)\n",
    "compute_elo(Navi,VGr,2,0,Starladder)\n",
    "compute_elo(Navi,LGD_Gaming,2,0,Starladder)\n",
    "\n",
    "compute_elo(Virtus_pro,Vega,2,1,Starladder)\n",
    "compute_elo(OG,MVP_Phoenix,2,0,Starladder)\n",
    "compute_elo(VGr,Virtus_pro,2,1,Starladder)\n",
    "compute_elo(OG,Alliance,2,1,Starladder)\n",
    "compute_elo(VGr,OG,2,1,Starladder)\n",
    "compute_elo(VGr,LGD_Gaming,2,1,Starladder)\n",
    "compute_elo(VGr,Navi,3,1,Starladder)\n"
   ]
  },
  {
   "cell_type": "code",
   "execution_count": 12,
   "metadata": {
    "collapsed": false
   },
   "outputs": [
    {
     "name": "stdout",
     "output_type": "stream",
     "text": [
      "                  team  Rank\n",
      "0          Team Secret  1173\n",
      "1        Evil Geniuses  1119\n",
      "2          Team Liquid  1109\n",
      "3          MVP Phoenix  1095\n",
      "4             Alliance  1061\n",
      "5                   OG  1055\n",
      "6   Vici Gaming Reborn  1052\n",
      "7        Natus Vincere  1039\n",
      "8               Fnatic  1029\n",
      "9           LGD Gaming  1024\n",
      "10   compLexity Gaming  1019\n",
      "11         Team Empire   993\n",
      "12               EHOME   990\n",
      "13         Team_Spirit   983\n",
      "14       Vega Squadron   975\n",
      "15              Newbee   970\n",
      "16          Virtus Pro   960\n",
      "17         CDEC Gaming   949\n",
      "18         Team Archon   944\n",
      "19         Vici Gaming   939\n"
     ]
    }
   ],
   "source": [
    "display_rank(List_team)"
   ]
  },
  {
   "cell_type": "markdown",
   "metadata": {},
   "source": [
    "<h2>ESL One Manila 2016</h2>\n"
   ]
  },
  {
   "cell_type": "code",
   "execution_count": 13,
   "metadata": {
    "collapsed": true
   },
   "outputs": [],
   "source": [
    "# Create Tournament\n",
    "ESL = Tournament(\"ESL One Manila 2016\",30)\n",
    "\n",
    "# Introducing new teams\n",
    "Mineski = Team(\"Mineski\",1000)\n",
    "Wings = Team(\"Wings Gaming\",1000)\n",
    "\n",
    "List_team.append(Mineski)\n",
    "List_team.append(Wings)"
   ]
  },
  {
   "cell_type": "code",
   "execution_count": 14,
   "metadata": {
    "collapsed": true
   },
   "outputs": [],
   "source": [
    "# Group stage\n",
    "compute_elo(TL,Mineski,2,0,ESL)\n",
    "compute_elo(Wings,Complexity,2,1,ESL)\n",
    "compute_elo(TL,Wings,2,0,ESL)\n",
    "compute_elo(Complexity,Mineski,2,1,ESL)\n",
    "compute_elo(Wings,Complexity,2,1,ESL)\n",
    "compute_elo(Empire,Team_Secret,2,0,ESL)\n",
    "compute_elo(Fnatic,Ehome,2,0,ESL)\n",
    "compute_elo(Fnatic,Empire,2,0,ESL)\n",
    "compute_elo(Team_Secret,Ehome,2,0,ESL)\n",
    "compute_elo(Empire,Team_Secret,2,1,ESL)\n",
    "\n",
    "# Play_off\n",
    "compute_elo(TL,Empire,2,0,ESL)\n",
    "compute_elo(Wings,Fnatic,2,1,ESL)\n",
    "compute_elo(Wings,TL,3,0,ESL)"
   ]
  },
  {
   "cell_type": "code",
   "execution_count": 15,
   "metadata": {
    "collapsed": false
   },
   "outputs": [
    {
     "name": "stdout",
     "output_type": "stream",
     "text": [
      "                  team  Rank\n",
      "0          Team Secret  1131\n",
      "1          Team Liquid  1126\n",
      "2        Evil Geniuses  1119\n",
      "3          MVP Phoenix  1095\n",
      "4         Wings Gaming  1063\n",
      "5             Alliance  1061\n",
      "6                   OG  1055\n",
      "7               Fnatic  1053\n",
      "8   Vici Gaming Reborn  1052\n",
      "9        Natus Vincere  1039\n",
      "10          LGD Gaming  1024\n",
      "11         Team Empire  1011\n",
      "12   compLexity Gaming  1001\n",
      "13         Team_Spirit   983\n",
      "14       Vega Squadron   975\n",
      "15              Newbee   970\n",
      "16             Mineski   970\n",
      "17          Virtus Pro   960\n",
      "18               EHOME   958\n",
      "19         CDEC Gaming   949\n",
      "20         Team Archon   944\n",
      "21         Vici Gaming   939\n"
     ]
    }
   ],
   "source": [
    "display_rank(List_team)"
   ]
  },
  {
   "cell_type": "markdown",
   "metadata": {},
   "source": [
    "Here all lans which occured between Shangai and Manille Major\n",
    "The invited teams by Valve are:\n",
    "\n",
    "* Team Secret \n",
    "* Team Liquid  \n",
    "* Evil Geniuses  \n",
    "* MVP Phoenix  \n",
    "* Wings Gaming  \n",
    "* Alliance  \n",
    "* OG  \n",
    "* Fnatic  \n",
    "* Vici Gaming Reborn  \n",
    "* Natus Vincere  \n",
    "* LGD Gaming  \n",
    "* compLexity Gaming\n",
    "\n",
    "My invited teams are: \n",
    "\n",
    "* Team Secret \n",
    "* Team Liquid  \n",
    "* Evil Geniuses  \n",
    "* MVP Phoenix  \n",
    "* Wings Gaming  \n",
    "* Alliance  \n",
    "* OG  \n",
    "* Fnatic  \n",
    "* Vici Gaming Reborn  \n",
    "* Natus Vincere  \n",
    "* LGD Gaming  \n",
    "* Team Empire\n",
    "\n",
    "<p>Performance of Team Empire was not good enough in my opinion to be invited over Complexity.\n",
    "This time, I disagree with my invites.\n",
    "I'll try to think later what is wrong.</p>\n",
    "<p>On the other hand this time Valve decided to invite 12 teams instead of 6. This choice was a bit curious and I really dont know if it was the good solution but somehow it was a way to have some chinese teams after the fiasco of Shangai major.\n",
    "</p>"
   ]
  },
  {
   "cell_type": "code",
   "execution_count": null,
   "metadata": {
    "collapsed": true
   },
   "outputs": [],
   "source": []
  }
 ],
 "metadata": {
  "kernelspec": {
   "display_name": "Python 2",
   "language": "python",
   "name": "python2"
  },
  "language_info": {
   "codemirror_mode": {
    "name": "ipython",
    "version": 2
   },
   "file_extension": ".py",
   "mimetype": "text/x-python",
   "name": "python",
   "nbconvert_exporter": "python",
   "pygments_lexer": "ipython2",
   "version": "2.7.11"
  }
 },
 "nbformat": 4,
 "nbformat_minor": 0
}
