{
 "cells": [
  {
   "cell_type": "markdown",
   "metadata": {},
   "source": [
    "<h1 align=\"center\"> ELO Ranking for professional Dota team</h1>"
   ]
  },
  {
   "cell_type": "markdown",
   "metadata": {},
   "source": [
    "<h2 align=\"center\"> Shangai Major Invitation 2016</h2>"
   ]
  },
  {
   "cell_type": "code",
   "execution_count": 1,
   "metadata": {
    "collapsed": true
   },
   "outputs": [],
   "source": [
    "# Some import\n",
    "import pandas as pd"
   ]
  },
  {
   "cell_type": "markdown",
   "metadata": {},
   "source": [
    "<h2> Elo funtion and class</h2>"
   ]
  },
  {
   "cell_type": "code",
   "execution_count": 2,
   "metadata": {
    "collapsed": true
   },
   "outputs": [],
   "source": [
    "# Elo formula \n",
    "# R=R+KG(W-We)\n",
    "# R = Elo rank\n",
    "# K = Weight of competition\n",
    "# G = coefficient according to the result\n",
    "\n",
    "def compute_elo(Team1, Team2 ,score1, score2 ,Tournament):\n",
    "    elo1 = Team1.elo \n",
    "    elo2 = Team2.elo \n",
    "    k = Tournament.weight\n",
    "    We1 = 1/(1+10**(-(elo1-elo2)/400))\n",
    "    We2 = 1/(1+10**(-(elo2-elo1)/400))\n",
    "    \n",
    "    if(score1==score2):\n",
    "        elo1 = elo1 + k * 1 *(0.5-We1)\n",
    "        elo2 = elo2 + k * 1 *(0.5-We2)\n",
    "    elif(score1>score2+1):\n",
    "        elo1 = elo1 + k * 1.5 *(1-We1)\n",
    "        elo2 = elo2 - k * 1.5 *(We2)\n",
    "    elif(score1>score2):\n",
    "        elo1 = elo1 + k * 1 *(1-We1)\n",
    "        elo2 = elo2 - k * 1 *(We2)\n",
    "    elif(score2>score1+1):\n",
    "        elo1 = elo1 - k * 1.5 *(We1)\n",
    "        elo2 = elo2 + k * 1.5 *(1-We2)\n",
    "    elif(score2>score1):\n",
    "        elo1 = elo1 - k * 1 *(We1)\n",
    "        elo2 = elo2 + k * 1 *(1-We2)\n",
    "    \n",
    "    Team1.elo = round(elo1)\n",
    "    Team2.elo = round(elo2)\n",
    "\n",
    "def display_rank(List_team):\n",
    "    l =[]\n",
    "    for team in List_team:\n",
    "        l.append([team.name,team.elo])\n",
    "    df =pd.DataFrame(data=l, columns=[\"team\",\"Rank\"])\n",
    "    print df.sort(\"Rank\", ascending=0).reset_index(drop=True)"
   ]
  },
  {
   "cell_type": "code",
   "execution_count": 3,
   "metadata": {
    "collapsed": true
   },
   "outputs": [],
   "source": [
    "class Team:\n",
    "    def __init__(self,name, elo=1000):\n",
    "        self.elo = elo\n",
    "        self.name = name\n",
    "        \n",
    "    \n",
    "class Tournament:\n",
    "        def __init__(self,name, weight):\n",
    "            self.weight = weight\n",
    "            self.name = name"
   ]
  },
  {
   "cell_type": "markdown",
   "metadata": {},
   "source": [
    "### Weight of tournament\n",
    "* The International: 60\n",
    "* Major: 50\n",
    "* Cash price >200k: 30\n",
    "* Cash price >100k & <200k: 20\n",
    "* Cash price <100K: 10"
   ]
  },
  {
   "cell_type": "markdown",
   "metadata": {},
   "source": [
    "<h2>The Frankfurt Major</h2>\n"
   ]
  },
  {
   "cell_type": "code",
   "execution_count": 4,
   "metadata": {
    "collapsed": false
   },
   "outputs": [],
   "source": [
    "# Create Tournament\n",
    "Frankfurt_major = Tournament(\"The Fankfurt Major 2015\",50)\n",
    "\n",
    "\n",
    "Vici_Gaming = Team(\"Vici Gaming\", 1000)\n",
    "Evil_Geniuses  = Team(\"Evil Geniuses\", 1000)\n",
    "Team_Secret  = Team(\"Team Secret\", 1000)\n",
    "LGD_Gaming  = Team(\"LGD Gaming\", 1000)\n",
    "Cloud_9  = Team(\"Cloud 9\", 1000)\n",
    "Virtus_pro  = Team(\"Virtus Pro\", 1000)\n",
    "Newbee  = Team(\"Newbee\", 1000)\n",
    "Fnatic  = Team(\"Fnatic\", 1000)\n",
    "CDEC_Gaming = Team(\"CDEC Gaming\", 1000)\n",
    "Ehome  = Team(\"EHOME\", 1000)\n",
    "Alliance = Team(\"Alliance\",1000)\n",
    "Unknown = Team(\"Mineski\",1000)\n",
    "NewbeeY = Team(\"Newbee Young\",1000)\n",
    "OG = Team(\"OG\",1000)\n",
    "Vega_Squadron=Team(\"Vega Squadron\",1000)\n",
    "Mineski = Team(\"Mineski\",1000)\n",
    "\n",
    "List_team = [Vici_Gaming,Evil_Geniuses,Team_Secret,LGD_Gaming,Cloud_9,Virtus_pro,Newbee,Fnatic\n",
    "             ,CDEC_Gaming,Ehome,Mineski, Alliance, Unknown, NewbeeY, OG, Vega_Squadron]\n"
   ]
  },
  {
   "cell_type": "code",
   "execution_count": 5,
   "metadata": {
    "collapsed": false
   },
   "outputs": [],
   "source": [
    "# Group stage\n",
    "compute_elo(Evil_Geniuses, Fnatic,2,1,Frankfurt_major)\n",
    "compute_elo(Virtus_pro, Newbee,2,0,Frankfurt_major)\n",
    "compute_elo(Evil_Geniuses, Virtus_pro,2,1,Frankfurt_major)\n",
    "compute_elo(Newbee, Fnatic,2,0,Frankfurt_major)\n",
    "compute_elo(Virtus_pro, Newbee,2,0,Frankfurt_major)\n",
    "\n",
    "compute_elo(Vici_Gaming, Unknown,2,0,Frankfurt_major)\n",
    "compute_elo(Vega_Squadron, OG,2,1,Frankfurt_major)\n",
    "compute_elo(Vici_Gaming, Vega_Squadron,2,1,Frankfurt_major)\n",
    "compute_elo(OG, Unknown,2,0,Frankfurt_major)\n",
    "compute_elo(Vega_Squadron, OG,2,1,Frankfurt_major)\n",
    "\n",
    "compute_elo(Team_Secret, NewbeeY,2,0,Frankfurt_major)\n",
    "compute_elo(LGD_Gaming, Cloud_9,2,1,Frankfurt_major)\n",
    "compute_elo(Team_Secret, LGD_Gaming,2,0,Frankfurt_major)\n",
    "compute_elo(Cloud_9, NewbeeY,2,1,Frankfurt_major)\n",
    "compute_elo(LGD_Gaming, Cloud_9,2,0,Frankfurt_major)\n",
    "\n",
    "compute_elo(Ehome, Alliance,2,0,Frankfurt_major)\n",
    "compute_elo(CDEC_Gaming, Mineski,2,1,Frankfurt_major)\n",
    "compute_elo(Ehome, CDEC_Gaming,0,2,Frankfurt_major)\n",
    "compute_elo(Mineski, Alliance,2,0,Frankfurt_major)\n",
    "compute_elo(Ehome, Mineski,0,2,Frankfurt_major)\n",
    "\n",
    "# Play-off\n",
    "\n",
    "compute_elo(Evil_Geniuses, Vega_Squadron,2,1,Frankfurt_major)\n",
    "compute_elo(CDEC_Gaming, LGD_Gaming,2,0,Frankfurt_major)\n",
    "compute_elo(Team_Secret, Mineski,2,0,Frankfurt_major)\n",
    "compute_elo(Vici_Gaming, Virtus_pro,2,1,Frankfurt_major)\n",
    "compute_elo(Team_Secret, Vici_Gaming,2,1,Frankfurt_major)\n",
    "compute_elo(Evil_Geniuses, CDEC_Gaming,2,0,Frankfurt_major)\n",
    "compute_elo(Team_Secret, Evil_Geniuses,2,1,Frankfurt_major)\n",
    "\n",
    "compute_elo(Alliance, Cloud_9,1,0,Frankfurt_major)\n",
    "compute_elo(OG, Fnatic,1,0,Frankfurt_major)\n",
    "compute_elo(Unknown, Newbee,1,0,Frankfurt_major)\n",
    "compute_elo(Ehome, NewbeeY,1,0,Frankfurt_major)\n",
    "compute_elo(Virtus_pro, Alliance,2,0,Frankfurt_major)\n",
    "compute_elo(OG, Mineski,2,0,Frankfurt_major)\n",
    "compute_elo(LGD_Gaming, Unknown,2,0,Frankfurt_major)\n",
    "compute_elo(Ehome, Vega_Squadron,2,0,Frankfurt_major)\n",
    "compute_elo(OG, Virtus_pro,2,1,Frankfurt_major)\n",
    "compute_elo(Ehome, LGD_Gaming,2,1,Frankfurt_major)\n",
    "compute_elo(OG, CDEC_Gaming,2,0,Frankfurt_major)\n",
    "compute_elo(Ehome, Vici_Gaming,2,0,Frankfurt_major)\n",
    "compute_elo(OG, Ehome,2,1,Frankfurt_major)\n",
    "compute_elo(OG, Evil_Geniuses,2,1,Frankfurt_major)\n",
    "\n",
    "# Grand final\n",
    "compute_elo(Team_Secret, OG,1,3,Frankfurt_major)"
   ]
  },
  {
   "cell_type": "code",
   "execution_count": 6,
   "metadata": {
    "collapsed": false
   },
   "outputs": [
    {
     "name": "stdout",
     "output_type": "stream",
     "text": [
      "             team  Rank\n",
      "0              OG  1218\n",
      "1     Team Secret  1151\n",
      "2           EHOME  1099\n",
      "3   Evil Geniuses  1095\n",
      "4      Virtus Pro  1064\n",
      "5     Vici Gaming  1060\n",
      "6     CDEC Gaming  1048\n",
      "7      LGD Gaming  1029\n",
      "8         Mineski  1003\n",
      "9   Vega Squadron   992\n",
      "10         Newbee   974\n",
      "11       Alliance   960\n",
      "12        Cloud 9   959\n",
      "13        Mineski   957\n",
      "14   Newbee Young   952\n",
      "15         Fnatic   942\n"
     ]
    }
   ],
   "source": [
    "display_rank(List_team)"
   ]
  },
  {
   "cell_type": "markdown",
   "metadata": {},
   "source": [
    "<h2>Game Show Global eSports Cup Season 1</h2>\n"
   ]
  },
  {
   "cell_type": "code",
   "execution_count": 7,
   "metadata": {
    "collapsed": true
   },
   "outputs": [],
   "source": [
    "# Create Tournament\n",
    "GSB_S1 = Tournament(\"Game Show Global eSports Cup Season 1\",30)\n",
    "\n",
    "# Introducing now teams\n",
    "Four_CL = Team(\"4 Clover & Lepricon\",1000)\n",
    "Team_Empire = Team(\"Team Empire\",1000)\n",
    "MVP_Phoenix=Team(\"MVP Phoenix\",1000)\n",
    "List_team.append(Four_CL)\n",
    "List_team.append(Team_Empire)\n",
    "List_team.append(MVP_Phoenix)"
   ]
  },
  {
   "cell_type": "code",
   "execution_count": 8,
   "metadata": {
    "collapsed": true
   },
   "outputs": [],
   "source": [
    "compute_elo(Four_CL, MVP_Phoenix,2,0,GSB_S1)\n",
    "compute_elo(Team_Empire, Vega_Squadron,2,0,GSB_S1)\n",
    "compute_elo(Team_Empire, Four_CL,2,1,GSB_S1)\n",
    "compute_elo(Vega_Squadron, MVP_Phoenix,2,0,GSB_S1)\n",
    "compute_elo(Four_CL, Vega_Squadron,2,0,GSB_S1)\n",
    "compute_elo(Team_Empire, Four_CL,3,1,GSB_S1)"
   ]
  },
  {
   "cell_type": "code",
   "execution_count": 9,
   "metadata": {
    "collapsed": false
   },
   "outputs": [
    {
     "name": "stdout",
     "output_type": "stream",
     "text": [
      "                   team  Rank\n",
      "0                    OG  1218\n",
      "1           Team Secret  1151\n",
      "2                 EHOME  1099\n",
      "3         Evil Geniuses  1095\n",
      "4            Virtus Pro  1064\n",
      "5           Team Empire  1061\n",
      "6           Vici Gaming  1060\n",
      "7           CDEC Gaming  1048\n",
      "8            LGD Gaming  1029\n",
      "9   4 Clover & Lepricon  1026\n",
      "10              Mineski  1003\n",
      "11          MVP Phoenix   976\n",
      "12               Newbee   974\n",
      "13        Vega Squadron   974\n",
      "14             Alliance   960\n",
      "15              Cloud 9   959\n",
      "16              Mineski   957\n",
      "17         Newbee Young   952\n",
      "18               Fnatic   942\n"
     ]
    }
   ],
   "source": [
    "display_rank(List_team)"
   ]
  },
  {
   "cell_type": "markdown",
   "metadata": {},
   "source": [
    "<h2>The Summit 4</h2>\n"
   ]
  },
  {
   "cell_type": "code",
   "execution_count": 10,
   "metadata": {
    "collapsed": true
   },
   "outputs": [],
   "source": [
    "# Create Tournament\n",
    "TS4 = Tournament(\"The Summit 4\",20)\n",
    "\n",
    "# Introducing new team\n",
    "Team_Liquid=Team(\"Team Liquid\",1000)\n",
    "List_team.append(Team_Liquid)\n",
    "Digital_Chaos=Team(\"Digital Chaos\",1000)\n",
    "List_team.append(Digital_Chaos)"
   ]
  },
  {
   "cell_type": "code",
   "execution_count": 11,
   "metadata": {
    "collapsed": false
   },
   "outputs": [],
   "source": [
    "# Play-off\n",
    "compute_elo(OG, Mineski,2,0,TS4)\n",
    "compute_elo(Vici_Gaming, Virtus_pro,2,1,TS4)\n",
    "compute_elo(Team_Liquid, Ehome,2,1,TS4)\n",
    "compute_elo(Evil_Geniuses, Digital_Chaos,2,1,TS4)\n",
    "compute_elo(Vici_Gaming, OG,2,1,TS4)\n",
    "compute_elo(Evil_Geniuses, Team_Liquid,2,1,TS4)\n",
    "compute_elo(Evil_Geniuses, Vici_Gaming,2,1,TS4)\n",
    "compute_elo(Virtus_pro, Mineski,2,0,TS4)\n",
    "compute_elo(Ehome, Digital_Chaos,2,1,TS4)\n",
    "compute_elo(Virtus_pro, Team_Liquid,2,1,TS4)\n",
    "compute_elo(OG, Ehome,2,1,TS4)\n",
    "compute_elo(Virtus_pro, OG,2,0,TS4)\n",
    "compute_elo(Virtus_pro, Vici_Gaming,2,0,TS4)\n",
    "compute_elo(Evil_Geniuses, Virtus_pro,3,2,TS4)"
   ]
  },
  {
   "cell_type": "code",
   "execution_count": 12,
   "metadata": {
    "collapsed": false
   },
   "outputs": [
    {
     "name": "stdout",
     "output_type": "stream",
     "text": [
      "                   team  Rank\n",
      "0                    OG  1197\n",
      "1           Team Secret  1151\n",
      "2         Evil Geniuses  1128\n",
      "3            Virtus Pro  1100\n",
      "4                 EHOME  1086\n",
      "5           Vici Gaming  1061\n",
      "6           Team Empire  1061\n",
      "7           CDEC Gaming  1048\n",
      "8            LGD Gaming  1029\n",
      "9   4 Clover & Lepricon  1026\n",
      "10          Team Liquid   998\n",
      "11        Digital Chaos   986\n",
      "12              Mineski   983\n",
      "13          MVP Phoenix   976\n",
      "14        Vega Squadron   974\n",
      "15               Newbee   974\n",
      "16             Alliance   960\n",
      "17              Cloud 9   959\n",
      "18              Mineski   957\n",
      "19         Newbee Young   952\n",
      "20               Fnatic   942\n"
     ]
    }
   ],
   "source": [
    "display_rank(List_team)"
   ]
  },
  {
   "cell_type": "markdown",
   "metadata": {},
   "source": [
    "<h2>ASUS ROG DreamLeague Season 4</h2>\n"
   ]
  },
  {
   "cell_type": "code",
   "execution_count": 13,
   "metadata": {
    "collapsed": true
   },
   "outputs": [],
   "source": [
    "# Create Tournament\n",
    "DL_S4 = Tournament(\"ASUS ROG DreamLeague Season 4\",20)"
   ]
  },
  {
   "cell_type": "code",
   "execution_count": 14,
   "metadata": {
    "collapsed": true
   },
   "outputs": [],
   "source": [
    "# Play-off\n",
    "compute_elo(Four_CL, Alliance,2,0,DL_S4)\n",
    "compute_elo(OG, Team_Empire,2,0,DL_S4)\n",
    "compute_elo(OG, Four_CL,2,0,DL_S4)\n",
    "compute_elo(Team_Empire, Alliance,2,0,DL_S4)\n",
    "compute_elo(Team_Empire, Four_CL,3,1,DL_S4)\n",
    "compute_elo(OG, Team_Empire,3,0,DL_S4)"
   ]
  },
  {
   "cell_type": "code",
   "execution_count": 15,
   "metadata": {
    "collapsed": false
   },
   "outputs": [
    {
     "name": "stdout",
     "output_type": "stream",
     "text": [
      "                   team  Rank\n",
      "0                    OG  1223\n",
      "1           Team Secret  1151\n",
      "2         Evil Geniuses  1128\n",
      "3            Virtus Pro  1100\n",
      "4                 EHOME  1086\n",
      "5           Team Empire  1068\n",
      "6           Vici Gaming  1061\n",
      "7           CDEC Gaming  1048\n",
      "8            LGD Gaming  1029\n",
      "9   4 Clover & Lepricon  1016\n",
      "10          Team Liquid   998\n",
      "11        Digital Chaos   986\n",
      "12              Mineski   983\n",
      "13          MVP Phoenix   976\n",
      "14        Vega Squadron   974\n",
      "15               Newbee   974\n",
      "16              Cloud 9   959\n",
      "17              Mineski   957\n",
      "18         Newbee Young   952\n",
      "19               Fnatic   942\n",
      "20             Alliance   937\n"
     ]
    }
   ],
   "source": [
    "display_rank(List_team)"
   ]
  },
  {
   "cell_type": "markdown",
   "metadata": {},
   "source": [
    "<h2>The Defense Season 5</h2>\n"
   ]
  },
  {
   "cell_type": "code",
   "execution_count": 16,
   "metadata": {
    "collapsed": true
   },
   "outputs": [],
   "source": [
    "# Create Tournament\n",
    "TD_S5 = Tournament(\"The Defense Season 5\",10)\n",
    "\n",
    "# Introducing now teams\n",
    "Alternate = Team(\"Team Alternate\",1000)\n",
    "List_team.append(Alternate)"
   ]
  },
  {
   "cell_type": "code",
   "execution_count": 17,
   "metadata": {
    "collapsed": false
   },
   "outputs": [],
   "source": [
    "# Play-off\n",
    "compute_elo(OG, Alternate,2,0,TD_S5)\n",
    "compute_elo(Team_Liquid, Alliance,2,1,TD_S5)\n",
    "compute_elo(OG, Team_Liquid,2,0,TD_S5)\n",
    "compute_elo(Alliance, Alternate,2,0,TD_S5)\n",
    "compute_elo(Team_Liquid, Alliance,2,0,TD_S5)\n",
    "compute_elo(Team_Liquid, OG,3,1,TD_S5)"
   ]
  },
  {
   "cell_type": "code",
   "execution_count": 18,
   "metadata": {
    "collapsed": false
   },
   "outputs": [
    {
     "name": "stdout",
     "output_type": "stream",
     "text": [
      "                   team  Rank\n",
      "0                    OG  1217\n",
      "1           Team Secret  1151\n",
      "2         Evil Geniuses  1128\n",
      "3            Virtus Pro  1100\n",
      "4                 EHOME  1086\n",
      "5           Team Empire  1068\n",
      "6           Vici Gaming  1061\n",
      "7           CDEC Gaming  1048\n",
      "8            LGD Gaming  1029\n",
      "9           Team Liquid  1017\n",
      "10  4 Clover & Lepricon  1016\n",
      "11       Team Alternate   988\n",
      "12        Digital Chaos   986\n",
      "13              Mineski   983\n",
      "14          MVP Phoenix   976\n",
      "15        Vega Squadron   974\n",
      "16               Newbee   974\n",
      "17              Cloud 9   959\n",
      "18              Mineski   957\n",
      "19         Newbee Young   952\n",
      "20               Fnatic   942\n",
      "21             Alliance   936\n"
     ]
    }
   ],
   "source": [
    "display_rank(List_team)"
   ]
  },
  {
   "cell_type": "markdown",
   "metadata": {},
   "source": [
    "<h2>World Cyber Arena 2015</h2>\n"
   ]
  },
  {
   "cell_type": "code",
   "execution_count": 19,
   "metadata": {
    "collapsed": true
   },
   "outputs": [],
   "source": [
    "# Create Tournament\n",
    "WCA_2015 = Tournament(\"World Cyber Arena 2015\",30)\n",
    "\n",
    "# Introducing now teams\n",
    "TNC_Gaming = Team(\"TNC Gaming\",1000)\n",
    "List_team.append(TNC_Gaming)\n",
    "Wings_Gaming = Team(\"Wings Gaming\",1000)\n",
    "List_team.append(Wings_Gaming)\n",
    "Team_Leviathan = Team(\"Team Leviathan\",1000)\n",
    "List_team.append(Team_Leviathan)\n",
    "Team_YP = Team(\"Team Youporn\",1000)\n",
    "List_team.append(Team_YP)\n",
    "Execration = Team(\"Execration\",1000)\n",
    "List_team.append(Execration)\n",
    "Invictus_Gaming = Team(\"Invictus Gaming\",1000)\n",
    "List_team.append(Execration)"
   ]
  },
  {
   "cell_type": "code",
   "execution_count": 20,
   "metadata": {
    "collapsed": false
   },
   "outputs": [],
   "source": [
    "# Group stage\n",
    "compute_elo(Wings_Gaming, Team_Secret,2,0,WCA_2015)\n",
    "compute_elo(Fnatic, Team_Empire,1,1,WCA_2015)\n",
    "compute_elo(Team_Secret, Fnatic,2,0,WCA_2015)\n",
    "compute_elo(Team_Empire, Wings_Gaming,1,1,WCA_2015)\n",
    "compute_elo(Team_Empire, Team_Secret,2,0,WCA_2015)\n",
    "compute_elo(Wings_Gaming, Fnatic,1,1,WCA_2015)\n",
    "\n",
    "compute_elo(Team_Leviathan, Team_YP,2,0,WCA_2015)\n",
    "compute_elo(LGD_Gaming, Team_YP,2,0,WCA_2015)\n",
    "compute_elo(LGD_Gaming, Team_Leviathan,2,0,WCA_2015)\n",
    "\n",
    "compute_elo(CDEC_Gaming, TNC_Gaming,1,1,WCA_2015)\n",
    "compute_elo(Invictus_Gaming, Execration,2,0,WCA_2015)\n",
    "compute_elo(CDEC_Gaming, Invictus_Gaming,1,1,WCA_2015)\n",
    "compute_elo(TNC_Gaming, Execration,1,1,WCA_2015)\n",
    "compute_elo(CDEC_Gaming, Execration,2,0,WCA_2015)\n",
    "compute_elo(TNC_Gaming, Invictus_Gaming,2,0,WCA_2015)\n",
    "\n",
    "compute_elo(Alliance, MVP_Phoenix,2,0,WCA_2015)\n",
    "compute_elo(Team_Liquid, Digital_Chaos,1,1,WCA_2015)\n",
    "compute_elo(Alliance, Digital_Chaos,1,1,WCA_2015)\n",
    "compute_elo(Team_Liquid, MVP_Phoenix,2,0,WCA_2015)\n",
    "compute_elo(Team_Liquid, Alliance,2,0,WCA_2015)\n",
    "compute_elo(MVP_Phoenix, Digital_Chaos,2,0,WCA_2015)\n",
    "\n",
    "# Play-off\n",
    "compute_elo(Wings_Gaming, Team_Leviathan,2,0,WCA_2015)\n",
    "compute_elo(Alliance, CDEC_Gaming,2,1,WCA_2015)\n",
    "compute_elo(LGD_Gaming, Team_Empire,2,1,WCA_2015)\n",
    "compute_elo(Team_Liquid, TNC_Gaming,2,0,WCA_2015)\n",
    "compute_elo(Alliance, Wings_Gaming,2,0,WCA_2015)\n",
    "compute_elo(LGD_Gaming, Team_Liquid,2,0,WCA_2015)\n",
    "compute_elo(Team_Liquid, Wings_Gaming,3,0,WCA_2015)\n",
    "compute_elo(Alliance, LGD_Gaming,3,2,WCA_2015)\n"
   ]
  },
  {
   "cell_type": "code",
   "execution_count": 21,
   "metadata": {
    "collapsed": false
   },
   "outputs": [
    {
     "name": "stdout",
     "output_type": "stream",
     "text": [
      "                   team  Rank\n",
      "0                    OG  1217\n",
      "1         Evil Geniuses  1128\n",
      "2           Team Secret  1104\n",
      "3            Virtus Pro  1100\n",
      "4            LGD Gaming  1090\n",
      "5                 EHOME  1086\n",
      "6           Team Empire  1073\n",
      "7           Team Liquid  1072\n",
      "8           Vici Gaming  1061\n",
      "9           CDEC Gaming  1046\n",
      "10  4 Clover & Lepricon  1016\n",
      "11             Alliance  1012\n",
      "12           TNC Gaming  1006\n",
      "13         Wings Gaming  1002\n",
      "14       Team Leviathan  1001\n",
      "15       Team Alternate   988\n",
      "16              Mineski   983\n",
      "17           Execration   980\n",
      "18           Execration   980\n",
      "19         Team Youporn   979\n",
      "20               Newbee   974\n",
      "21        Vega Squadron   974\n",
      "22        Digital Chaos   960\n",
      "23              Cloud 9   959\n",
      "24          MVP Phoenix   959\n",
      "25              Mineski   957\n",
      "26         Newbee Young   952\n",
      "27               Fnatic   939\n"
     ]
    }
   ],
   "source": [
    "display_rank(List_team)"
   ]
  },
  {
   "cell_type": "markdown",
   "metadata": {},
   "source": [
    "<h2>Dota 2 Radiant & Dire Cup 2015</h2>\n"
   ]
  },
  {
   "cell_type": "code",
   "execution_count": 22,
   "metadata": {
    "collapsed": true
   },
   "outputs": [],
   "source": [
    "# Create Tournament\n",
    "RandD_Cup_2015 = Tournament(\"Dota 2 Radiant & Dire Cup 2015\",20)\n",
    "\n",
    "# Introducing now teams\n",
    "FanTuan = Team(\"Team_FanTuan\",1000)\n",
    "List_team.append(FanTuan)\n",
    "CDEC_Youth = Team(\"CDEC Youth\",1000)\n",
    "List_team.append(CDEC_Youth)\n",
    "IG_Vitality = Team(\"IG VItality\",1000)\n",
    "List_team.append(IG_Vitality)"
   ]
  },
  {
   "cell_type": "code",
   "execution_count": 23,
   "metadata": {
    "collapsed": true
   },
   "outputs": [],
   "source": [
    "# Play-off\n",
    "compute_elo(Vici_Gaming, NewbeeY,2,0,RandD_Cup_2015)\n",
    "compute_elo(LGD_Gaming, IG_Vitality,2,0,RandD_Cup_2015)\n",
    "compute_elo(CDEC_Youth, Ehome,2,1,RandD_Cup_2015)\n",
    "compute_elo(CDEC_Gaming, FanTuan,2,0,RandD_Cup_2015)\n",
    "compute_elo(Vici_Gaming, LGD_Gaming,2,0,RandD_Cup_2015)\n",
    "compute_elo(CDEC_Youth, CDEC_Gaming,2,0,RandD_Cup_2015)\n",
    "compute_elo(CDEC_Youth, Vici_Gaming,2,1,RandD_Cup_2015)\n",
    "compute_elo(IG_Vitality, NewbeeY,1,0,RandD_Cup_2015)\n",
    "compute_elo(Ehome, FanTuan,1,0,RandD_Cup_2015)\n",
    "compute_elo(IG_Vitality, CDEC_Gaming,1,0,RandD_Cup_2015)\n",
    "compute_elo(Ehome, LGD_Gaming,1,0,RandD_Cup_2015)\n",
    "compute_elo(Ehome, IG_Vitality,1,0,RandD_Cup_2015)\n",
    "compute_elo(Ehome, CDEC_Youth,2,1,RandD_Cup_2015)"
   ]
  },
  {
   "cell_type": "code",
   "execution_count": 24,
   "metadata": {
    "collapsed": false
   },
   "outputs": [
    {
     "name": "stdout",
     "output_type": "stream",
     "text": [
      "                   team  Rank\n",
      "0                    OG  1217\n",
      "1         Evil Geniuses  1128\n",
      "2                 EHOME  1108\n",
      "3           Team Secret  1104\n",
      "4            Virtus Pro  1100\n",
      "5           Vici Gaming  1075\n",
      "6            LGD Gaming  1075\n",
      "7           Team Empire  1073\n",
      "8           Team Liquid  1072\n",
      "9            CDEC Youth  1033\n",
      "10          CDEC Gaming  1031\n",
      "11  4 Clover & Lepricon  1016\n",
      "12             Alliance  1012\n",
      "13           TNC Gaming  1006\n",
      "14         Wings Gaming  1002\n",
      "15       Team Leviathan  1001\n",
      "16          IG VItality  1001\n",
      "17       Team Alternate   988\n",
      "18              Mineski   983\n",
      "19           Execration   980\n",
      "20           Execration   980\n",
      "21         Team Youporn   979\n",
      "22         Team_FanTuan   979\n",
      "23               Newbee   974\n",
      "24        Vega Squadron   974\n",
      "25        Digital Chaos   960\n",
      "26          MVP Phoenix   959\n",
      "27              Cloud 9   959\n",
      "28              Mineski   957\n",
      "29               Fnatic   939\n",
      "30         Newbee Young   933\n"
     ]
    }
   ],
   "source": [
    "display_rank(List_team)"
   ]
  },
  {
   "cell_type": "markdown",
   "metadata": {},
   "source": [
    "<h2>ECL Autumn 2015</h2>\n"
   ]
  },
  {
   "cell_type": "code",
   "execution_count": 25,
   "metadata": {
    "collapsed": true
   },
   "outputs": [],
   "source": [
    "# Create Tournament\n",
    "ECL_Auttumn_2015 = Tournament(\"ECL Autumn 2015\",10)\n",
    "\n",
    "# Introducing new teams\n",
    "FTD_Club_B = Team(\"FTD Club B\",1000)\n",
    "List_team.append(FTD_Club_B)\n"
   ]
  },
  {
   "cell_type": "code",
   "execution_count": 26,
   "metadata": {
    "collapsed": true
   },
   "outputs": [],
   "source": [
    "compute_elo(CDEC_Gaming,FTD_Club_B,2,1,ECL_Auttumn_2015)\n",
    "compute_elo(CDEC_Youth,Invictus_Gaming,2,0,ECL_Auttumn_2015)\n",
    "compute_elo(Invictus_Gaming,FTD_Club_B,2,0,ECL_Auttumn_2015)\n",
    "compute_elo(CDEC_Gaming,CDEC_Youth,2,0,ECL_Auttumn_2015)"
   ]
  },
  {
   "cell_type": "code",
   "execution_count": 27,
   "metadata": {
    "collapsed": false
   },
   "outputs": [
    {
     "name": "stdout",
     "output_type": "stream",
     "text": [
      "                   team  Rank\n",
      "0                    OG  1217\n",
      "1         Evil Geniuses  1128\n",
      "2                 EHOME  1108\n",
      "3           Team Secret  1104\n",
      "4            Virtus Pro  1100\n",
      "5           Vici Gaming  1075\n",
      "6            LGD Gaming  1075\n",
      "7           Team Empire  1073\n",
      "8           Team Liquid  1072\n",
      "9           CDEC Gaming  1044\n",
      "10           CDEC Youth  1032\n",
      "11  4 Clover & Lepricon  1016\n",
      "12             Alliance  1012\n",
      "13           TNC Gaming  1006\n",
      "14         Wings Gaming  1002\n",
      "15          IG VItality  1001\n",
      "16       Team Leviathan  1001\n",
      "17       Team Alternate   988\n",
      "18           FTD Club B   988\n",
      "19              Mineski   983\n",
      "20           Execration   980\n",
      "21           Execration   980\n",
      "22         Team Youporn   979\n",
      "23         Team_FanTuan   979\n",
      "24               Newbee   974\n",
      "25        Vega Squadron   974\n",
      "26        Digital Chaos   960\n",
      "27          MVP Phoenix   959\n",
      "28              Cloud 9   959\n",
      "29              Mineski   957\n",
      "30               Fnatic   939\n",
      "31         Newbee Young   933\n"
     ]
    }
   ],
   "source": [
    "display_rank(List_team)"
   ]
  },
  {
   "cell_type": "markdown",
   "metadata": {},
   "source": [
    "## Conclusion\n",
    "\n",
    "The invitation was realeased the 31th december with 8 team which are:\n",
    "* OG\n",
    "* Ehome\n",
    "* Evil Geniuses\n",
    "* Alliance\n",
    "* CDEC Gaming\n",
    "* Virtus Pro\n",
    "* Team Secret\n",
    "* Vici Gaming\n",
    "\n",
    "At this point my ranking is:\n",
    "\n",
    "* OG  \n",
    "* EHOME  \n",
    "* Team Secret  \n",
    "* Evil Geniuses  \n",
    "* LGD Gaming  \n",
    "* Virtus Pro\n",
    "* Vici Gaming  \n",
    "* Team Empire  \n",
    "\n",
    "There's a problem among CDEC Gaming, Team Empire, Alliance and LGD at this point\n",
    "* The results of CDEC Gaming are: 5-6th at Frankfurt Major, 5-8th at WCA (last place) and 1rst at ECL (minor lan and probabli not taken into account by Valve since it took place the day before the invitation was released.\n",
    "* The results of Team Empire are: 1rst at GSG (minor tournament with high prize pool), 2nd at DreamLeague (Lost to OG) and 5-8th at WCA.\n",
    "* The results of Alliance are: 1st at WCA and last at other (minor) tournaments\n",
    "* The results of LGD Gaming are: 7-8th at Frankfurt Major, 2nd at WCA, 5-6th at Rad&Dire Cup (minor tournament)\n",
    "\n",
    "It's quiet hard to know which of these 4 teams deserved the invitations.\n",
    "Honnestly I prefer the ones proposed by my ranking because CDEC has shown nothing since the major and the good result of Alliance is an outlier.\n",
    "Alliance showed their invitation was legit one month later but you cant predict that and the invition should not be a bet.\n",
    "My ranking was wrong this time but we need to take into account the invitation by Valve were questionnable as well"
   ]
  },
  {
   "cell_type": "code",
   "execution_count": null,
   "metadata": {
    "collapsed": true
   },
   "outputs": [],
   "source": []
  }
 ],
 "metadata": {
  "kernelspec": {
   "display_name": "Python 2",
   "language": "python",
   "name": "python2"
  },
  "language_info": {
   "codemirror_mode": {
    "name": "ipython",
    "version": 2
   },
   "file_extension": ".py",
   "mimetype": "text/x-python",
   "name": "python",
   "nbconvert_exporter": "python",
   "pygments_lexer": "ipython2",
   "version": "2.7.11"
  }
 },
 "nbformat": 4,
 "nbformat_minor": 0
}
